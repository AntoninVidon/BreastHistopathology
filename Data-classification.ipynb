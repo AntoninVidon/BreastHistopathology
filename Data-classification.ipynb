{
 "cells": [
  {
   "cell_type": "markdown",
   "metadata": {},
   "source": [
    "# Data classification"
   ]
  },
  {
   "cell_type": "code",
   "execution_count": 314,
   "metadata": {},
   "outputs": [],
   "source": [
    "import numpy as np \n",
    "import pandas as pd\n",
    "import pickle\n",
    "import matplotlib.pyplot as plt\n",
    "from sklearn.model_selection import train_test_split\n",
    "from sklearn import metrics\n",
    "from datetime import datetime\n",
    "from tqdm.notebook import tqdm\n",
    "import itertools\n",
    "import seaborn as sns"
   ]
  },
  {
   "cell_type": "markdown",
   "metadata": {},
   "source": [
    "## 1. Loading the sample data"
   ]
  },
  {
   "cell_type": "code",
   "execution_count": 2,
   "metadata": {},
   "outputs": [],
   "source": [
    "sample_df = pd.read_pickle(\"./training-data.pkl\")"
   ]
  },
  {
   "cell_type": "code",
   "execution_count": 3,
   "metadata": {},
   "outputs": [],
   "source": [
    "inputs = np.vstack(sample_df['pca_array'])\n",
    "targets = sample_df['target'].to_numpy()"
   ]
  },
  {
   "cell_type": "markdown",
   "metadata": {},
   "source": [
    "## 2. Split into train and test split"
   ]
  },
  {
   "cell_type": "code",
   "execution_count": 4,
   "metadata": {},
   "outputs": [],
   "source": [
    "X_train, X_test, y_train, y_test =  train_test_split(inputs, targets, train_size=0.7, shuffle = True)"
   ]
  },
  {
   "cell_type": "markdown",
   "metadata": {},
   "source": [
    "## 3. Loading models"
   ]
  },
  {
   "cell_type": "code",
   "execution_count": 307,
   "metadata": {},
   "outputs": [],
   "source": [
    "from sklearn.ensemble import RandomForestClassifier\n",
    "from sklearn.neighbors import KNeighborsClassifier\n",
    "from sklearn.tree import DecisionTreeClassifier\n",
    "from sklearn.neural_network import MLPClassifier\n",
    "from sklearn.svm import SVC as SupportVectorClassifier\n",
    "from sklearn.linear_model import SGDClassifier\n",
    "from sklearn.neighbors import NearestCentroid\n",
    "from sklearn.naive_bayes import GaussianNB\n",
    "from sklearn.ensemble import GradientBoostingClassifier"
   ]
  },
  {
   "cell_type": "code",
   "execution_count": 366,
   "metadata": {},
   "outputs": [],
   "source": [
    "models_names = ['Random Forest', 'KNN', 'Decision Tree', 'MLP', \n",
    "                'Support Vector', 'Lin Stoch-Grad-Desc', 'Nearest Centroid', 'Naive Bayes', 'Gradient Boosting']"
   ]
  },
  {
   "cell_type": "code",
   "execution_count": 309,
   "metadata": {},
   "outputs": [],
   "source": [
    "models = [RandomForestClassifier(), KNeighborsClassifier(), DecisionTreeClassifier(), MLPClassifier(), \n",
    "          SupportVectorClassifier(), SGDClassifier(), NearestCentroid(), GaussianNB(), GradientBoostingClassifier()]"
   ]
  },
  {
   "cell_type": "markdown",
   "metadata": {},
   "source": [
    "## 4. Using best params obtained from grid search"
   ]
  },
  {
   "cell_type": "code",
   "execution_count": 310,
   "metadata": {},
   "outputs": [],
   "source": [
    "best_params_RFC = {'bootstrap': True, 'max_depth': None, 'min_samples_leaf': 3, 'min_samples_split': 12, 'n_estimators': 1000}\n",
    "best_params_KNN = {'leaf_size': 20, 'metric': 'chebyshev', 'n_neighbors': 20, 'p': 1, 'weights': 'uniform'}\n",
    "best_params_DT = {'max_leaf_nodes': 30, 'min_samples_split': 2}\n",
    "best_params_MLP = {'activation': 'tanh', 'alpha': 0.05, 'hidden_layer_sizes': (20,), 'solver': 'sgd'}\n",
    "best_params_SVC = {'C': 1, 'gamma': 'scale', 'kernel': 'rbf'}\n",
    "best_params_SGD = {'alpha': 1, 'l1_ratio': 0.05}\n",
    "best_params_NC = {}\n",
    "best_params_GNB = {}\n",
    "best_params_GBC = {'learning_rate': 0.1, 'max_depth': 15, 'max_features': 'sqrt', 'min_samples_leaf': 5, \n",
    "                   'min_samples_split': 0.05, 'n_estimators': 100, 'subsample': 1.0}\n",
    "\n",
    "best_params = [best_params_RFC, best_params_KNN, best_params_DT, best_params_MLP, \n",
    "               best_params_SVC, best_params_SGD, best_params_NC, best_params_GNB, best_params_GBC]\n"
   ]
  },
  {
   "cell_type": "code",
   "execution_count": 311,
   "metadata": {},
   "outputs": [],
   "source": [
    "def create_model_accuracies_df(model, model_name, best_params, n = 10):\n",
    "    model_accuracies_dict = {'model' : [model_name for i in range(n)], 'accuracy' : [], \n",
    "                             'time_to_fit' : [], 'time_to_predict' : []}\n",
    "    for i in tqdm(range(n)):\n",
    "        model_used = model\n",
    "        model_used.set_params(**best_params)\n",
    "        init_time = datetime.now() \n",
    "        model_used.fit(X_train, y_train)\n",
    "        time_to_fit = (datetime.now() - init_time).total_seconds()\n",
    "        init_time = datetime.now() \n",
    "        y_pred = model_used.predict(X_test)\n",
    "        time_to_predict = (datetime.now() - init_time).total_seconds()\n",
    "        model_used_accuracy = metrics.accuracy_score(y_test, y_pred)\n",
    "        model_accuracies_dict['accuracy'].append(model_used_accuracy)\n",
    "        model_accuracies_dict['time_to_fit'].append(time_to_fit)\n",
    "        model_accuracies_dict['time_to_predict'].append(time_to_predict)\n",
    "    model_accuracies_df = pd.DataFrame(model_accuracies_dict)\n",
    "    return model_accuracies_df"
   ]
  },
  {
   "cell_type": "code",
   "execution_count": 321,
   "metadata": {},
   "outputs": [],
   "source": [
    "def create_accuracies_df(models, models_names, best_params):\n",
    "    accuracies_df = pd.DataFrame({'model' : [], 'accuracy' : [], 'time_to_fit' : [], 'time_to_predict' : []})\n",
    "    for i in range(len(models)):\n",
    "        print(\"Computing accuracy of \", models_names[i], \" model.\")\n",
    "        accuracies_df = accuracies_df.append(create_model_accuracies_df(models[i], models_names[i], best_params[i]))\n",
    "    return accuracies_df"
   ]
  },
  {
   "cell_type": "code",
   "execution_count": 322,
   "metadata": {
    "scrolled": true
   },
   "outputs": [
    {
     "name": "stdout",
     "output_type": "stream",
     "text": [
      "Computing accuracy of  KNN  model.\n"
     ]
    },
    {
     "data": {
      "application/vnd.jupyter.widget-view+json": {
       "model_id": "21a99aec483144cea1754ffec249079b",
       "version_major": 2,
       "version_minor": 0
      },
      "text/plain": [
       "HBox(children=(HTML(value=''), FloatProgress(value=0.0, max=10.0), HTML(value='')))"
      ]
     },
     "metadata": {},
     "output_type": "display_data"
    },
    {
     "name": "stdout",
     "output_type": "stream",
     "text": [
      "\n",
      "Computing accuracy of  Decision Tree  model.\n"
     ]
    },
    {
     "data": {
      "application/vnd.jupyter.widget-view+json": {
       "model_id": "96e2fe406f3546a3a8bc03e6c2575811",
       "version_major": 2,
       "version_minor": 0
      },
      "text/plain": [
       "HBox(children=(HTML(value=''), FloatProgress(value=0.0, max=10.0), HTML(value='')))"
      ]
     },
     "metadata": {},
     "output_type": "display_data"
    },
    {
     "name": "stdout",
     "output_type": "stream",
     "text": [
      "\n",
      "Computing accuracy of  MLP  model.\n"
     ]
    },
    {
     "data": {
      "application/vnd.jupyter.widget-view+json": {
       "model_id": "1b25094455624e5499efbe70cf6b0654",
       "version_major": 2,
       "version_minor": 0
      },
      "text/plain": [
       "HBox(children=(HTML(value=''), FloatProgress(value=0.0, max=10.0), HTML(value='')))"
      ]
     },
     "metadata": {},
     "output_type": "display_data"
    },
    {
     "name": "stdout",
     "output_type": "stream",
     "text": [
      "\n"
     ]
    }
   ],
   "source": [
    "accuracies_df1 = create_accuracies_df(models[1:4], models_names[1:4], best_params[1:4])"
   ]
  },
  {
   "cell_type": "code",
   "execution_count": 386,
   "metadata": {},
   "outputs": [
    {
     "name": "stdout",
     "output_type": "stream",
     "text": [
      "Computing accuracy of  Lin Stoch-Grad-Desc  model.\n"
     ]
    },
    {
     "data": {
      "application/vnd.jupyter.widget-view+json": {
       "model_id": "358df25364b14a16a2922864de48f051",
       "version_major": 2,
       "version_minor": 0
      },
      "text/plain": [
       "HBox(children=(HTML(value=''), FloatProgress(value=0.0, max=10.0), HTML(value='')))"
      ]
     },
     "metadata": {},
     "output_type": "display_data"
    },
    {
     "name": "stdout",
     "output_type": "stream",
     "text": [
      "\n",
      "Computing accuracy of  Nearest Centroid  model.\n"
     ]
    },
    {
     "data": {
      "application/vnd.jupyter.widget-view+json": {
       "model_id": "84899be8bab744d097a4f59870b10063",
       "version_major": 2,
       "version_minor": 0
      },
      "text/plain": [
       "HBox(children=(HTML(value=''), FloatProgress(value=0.0, max=10.0), HTML(value='')))"
      ]
     },
     "metadata": {},
     "output_type": "display_data"
    },
    {
     "name": "stdout",
     "output_type": "stream",
     "text": [
      "\n",
      "Computing accuracy of  Naive Bayes  model.\n"
     ]
    },
    {
     "data": {
      "application/vnd.jupyter.widget-view+json": {
       "model_id": "3606028d08644ed58c1e2d1ccb002de9",
       "version_major": 2,
       "version_minor": 0
      },
      "text/plain": [
       "HBox(children=(HTML(value=''), FloatProgress(value=0.0, max=10.0), HTML(value='')))"
      ]
     },
     "metadata": {},
     "output_type": "display_data"
    },
    {
     "name": "stdout",
     "output_type": "stream",
     "text": [
      "\n",
      "Computing accuracy of  Gradient Boosting  model.\n"
     ]
    },
    {
     "data": {
      "application/vnd.jupyter.widget-view+json": {
       "model_id": "6bb1a5b0e5f24f98bc98081a03dd98ca",
       "version_major": 2,
       "version_minor": 0
      },
      "text/plain": [
       "HBox(children=(HTML(value=''), FloatProgress(value=0.0, max=10.0), HTML(value='')))"
      ]
     },
     "metadata": {},
     "output_type": "display_data"
    },
    {
     "name": "stdout",
     "output_type": "stream",
     "text": [
      "\n"
     ]
    }
   ],
   "source": [
    "accuracies_df2 = create_accuracies_df(models[5:], models_names[5:], best_params[5:])"
   ]
  },
  {
   "cell_type": "code",
   "execution_count": 333,
   "metadata": {},
   "outputs": [
    {
     "name": "stdout",
     "output_type": "stream",
     "text": [
      "Computing accuracy of  Support Vector  model.\n"
     ]
    },
    {
     "data": {
      "application/vnd.jupyter.widget-view+json": {
       "model_id": "8090b3849eca4193b0c45b12317e094a",
       "version_major": 2,
       "version_minor": 0
      },
      "text/plain": [
       "HBox(children=(HTML(value=''), FloatProgress(value=0.0, max=10.0), HTML(value='')))"
      ]
     },
     "metadata": {},
     "output_type": "display_data"
    },
    {
     "name": "stdout",
     "output_type": "stream",
     "text": [
      "\n"
     ]
    }
   ],
   "source": [
    "accuracies_df3 = create_accuracies_df(models[4:5], models_names[4:5], best_params[4:5])"
   ]
  },
  {
   "cell_type": "code",
   "execution_count": 339,
   "metadata": {},
   "outputs": [
    {
     "name": "stdout",
     "output_type": "stream",
     "text": [
      "Computing accuracy of  Random Forest  model.\n"
     ]
    },
    {
     "data": {
      "application/vnd.jupyter.widget-view+json": {
       "model_id": "f01063da531a42ab9b3181ee9c6f7ba8",
       "version_major": 2,
       "version_minor": 0
      },
      "text/plain": [
       "HBox(children=(HTML(value=''), FloatProgress(value=0.0, max=10.0), HTML(value='')))"
      ]
     },
     "metadata": {},
     "output_type": "display_data"
    },
    {
     "name": "stdout",
     "output_type": "stream",
     "text": [
      "\n"
     ]
    }
   ],
   "source": [
    "accuracies_df4 = create_accuracies_df(models[0:1], models_names[0:1], best_params[0:1])"
   ]
  },
  {
   "cell_type": "code",
   "execution_count": 412,
   "metadata": {},
   "outputs": [
    {
     "data": {
      "text/html": [
       "<div>\n",
       "<style scoped>\n",
       "    .dataframe tbody tr th:only-of-type {\n",
       "        vertical-align: middle;\n",
       "    }\n",
       "\n",
       "    .dataframe tbody tr th {\n",
       "        vertical-align: top;\n",
       "    }\n",
       "\n",
       "    .dataframe thead th {\n",
       "        text-align: right;\n",
       "    }\n",
       "</style>\n",
       "<table border=\"1\" class=\"dataframe\">\n",
       "  <thead>\n",
       "    <tr style=\"text-align: right;\">\n",
       "      <th></th>\n",
       "      <th>model</th>\n",
       "      <th>accuracy</th>\n",
       "      <th>time_to_fit</th>\n",
       "      <th>time_to_predict</th>\n",
       "    </tr>\n",
       "  </thead>\n",
       "  <tbody>\n",
       "    <tr>\n",
       "      <th>0</th>\n",
       "      <td>KNN</td>\n",
       "      <td>0.7845</td>\n",
       "      <td>0.720076</td>\n",
       "      <td>4.166856</td>\n",
       "    </tr>\n",
       "    <tr>\n",
       "      <th>1</th>\n",
       "      <td>KNN</td>\n",
       "      <td>0.7845</td>\n",
       "      <td>0.733040</td>\n",
       "      <td>4.149901</td>\n",
       "    </tr>\n",
       "    <tr>\n",
       "      <th>2</th>\n",
       "      <td>KNN</td>\n",
       "      <td>0.7845</td>\n",
       "      <td>0.736047</td>\n",
       "      <td>4.293503</td>\n",
       "    </tr>\n",
       "    <tr>\n",
       "      <th>3</th>\n",
       "      <td>KNN</td>\n",
       "      <td>0.7845</td>\n",
       "      <td>0.770937</td>\n",
       "      <td>4.218718</td>\n",
       "    </tr>\n",
       "    <tr>\n",
       "      <th>4</th>\n",
       "      <td>KNN</td>\n",
       "      <td>0.7845</td>\n",
       "      <td>0.759968</td>\n",
       "      <td>4.171843</td>\n",
       "    </tr>\n",
       "  </tbody>\n",
       "</table>\n",
       "</div>"
      ],
      "text/plain": [
       "  model  accuracy  time_to_fit  time_to_predict\n",
       "0   KNN    0.7845     0.720076         4.166856\n",
       "1   KNN    0.7845     0.733040         4.149901\n",
       "2   KNN    0.7845     0.736047         4.293503\n",
       "3   KNN    0.7845     0.770937         4.218718\n",
       "4   KNN    0.7845     0.759968         4.171843"
      ]
     },
     "execution_count": 412,
     "metadata": {},
     "output_type": "execute_result"
    }
   ],
   "source": [
    "accuracies_df.head()"
   ]
  },
  {
   "cell_type": "code",
   "execution_count": 411,
   "metadata": {},
   "outputs": [
    {
     "name": "stdout",
     "output_type": "stream",
     "text": [
      "<class 'pandas.core.frame.DataFrame'>\n",
      "Int64Index: 90 entries, 0 to 9\n",
      "Data columns (total 4 columns):\n",
      " #   Column           Non-Null Count  Dtype  \n",
      "---  ------           --------------  -----  \n",
      " 0   model            90 non-null     object \n",
      " 1   accuracy         90 non-null     float64\n",
      " 2   time_to_fit      90 non-null     float64\n",
      " 3   time_to_predict  90 non-null     float64\n",
      "dtypes: float64(3), object(1)\n",
      "memory usage: 6.0+ KB\n"
     ]
    }
   ],
   "source": [
    "accuracies_df.info()"
   ]
  },
  {
   "cell_type": "markdown",
   "metadata": {},
   "source": [
    "## 5. Saving dataframe of accuracies into pickle file"
   ]
  },
  {
   "cell_type": "code",
   "execution_count": 388,
   "metadata": {},
   "outputs": [],
   "source": [
    "accuracies_df = pd.concat([accuracies_df1, accuracies_df2, accuracies_df3, accuracies_df4])"
   ]
  },
  {
   "cell_type": "code",
   "execution_count": 346,
   "metadata": {},
   "outputs": [],
   "source": [
    "#accuracies_df.to_pickle(\"./accuracies-df.pkl\")"
   ]
  },
  {
   "cell_type": "markdown",
   "metadata": {},
   "source": [
    "## 6. Plotting accuracies and computation time of classifiers"
   ]
  },
  {
   "cell_type": "code",
   "execution_count": 347,
   "metadata": {},
   "outputs": [],
   "source": [
    "accuracies_df = pd.read_pickle(\"./accuracies-df.pkl\")"
   ]
  },
  {
   "cell_type": "code",
   "execution_count": 441,
   "metadata": {},
   "outputs": [],
   "source": [
    "# Removing 3 worse models\n",
    "accuracies_df_plot = accuracies_df[(accuracies_df.model != 'Nearest Centroid') & (accuracies_df.model != 'Lin Stoch-Grad-Desc') & (accuracies_df.model != 'Naive Bayes')]"
   ]
  },
  {
   "cell_type": "code",
   "execution_count": 442,
   "metadata": {},
   "outputs": [
    {
     "data": {
      "image/png": "[encoded data removed]",
      "text/plain": [
       "<Figure size 288x252 with 1 Axes>"
      ]
     },
     "metadata": {},
     "output_type": "display_data"
    }
   ],
   "source": [
    "sns.set_theme(style=\"ticks\")\n",
    "\n",
    "# Initialize the figure with a logarithmic x axis\n",
    "f, ax = plt.subplots(figsize=(4, 3.5))\n",
    "ax.set_xlim(0.76,0.83)\n",
    "ax.axvline(0.79, ls='--', label = 'Human eye', color = \"grey\")\n",
    "plt.legend(bbox_to_anchor=(1,0.7))\n",
    "\n",
    "# Plot the orbital period with horizontal boxes\n",
    "sns.boxplot(x=\"accuracy\", y=\"model\", data=accuracies_df_plot, width=1, palette = \"flare\", \n",
    "           order = ['MLP', 'Decision Tree', 'KNN', 'Random Forest', 'Gradient Boosting', 'Support Vector'])\n",
    "\n",
    "# Add in points to show each observation\n",
    "sns.stripplot(x=\"accuracy\", y=\"model\", data=accuracies_df_plot,\n",
    "              size=8, linewidth=0, palette = \"flare\",\n",
    "             order = ['MLP', 'Decision Tree', 'KNN', 'Random Forest', 'Gradient Boosting', 'Support Vector'])\n",
    "\n",
    "# Tweak the visual presentation\n",
    "ax.xaxis.grid(True)\n",
    "ax.set(ylabel=\"\")\n",
    "sns.despine(trim=True, left=True)"
   ]
  },
  {
   "cell_type": "code",
   "execution_count": 447,
   "metadata": {},
   "outputs": [
    {
     "data": {
      "image/png": "[encoded data removed]",
      "text/plain": [
       "<Figure size 216x288 with 1 Axes>"
      ]
     },
     "metadata": {},
     "output_type": "display_data"
    }
   ],
   "source": [
    "sns.set_theme(style=\"ticks\")\n",
    "\n",
    "# Initialize the figure with a logarithmic x axis\n",
    "f, ax = plt.subplots(figsize=(3, 4))\n",
    "#ax.set_xlim(0.76,0.83)\n",
    "#ax.axvline(0.79, ls='--', label = 'Human eye', color = \"grey\")\n",
    "#plt.legend()\n",
    "\n",
    "# Plot the orbital period with horizontal boxes\n",
    "sns.boxplot(x=\"time_to_predict\", y=\"model\", data=accuracies_df_plot, width=1, palette = \"flare\", \n",
    "           order = ['MLP', 'Decision Tree', 'KNN', 'Random Forest', 'Gradient Boosting', 'Support Vector'])\n",
    "\n",
    "# Add in points to show each observation\n",
    "sns.stripplot(x=\"time_to_predict\", y=\"model\", data=accuracies_df_plot,\n",
    "              size=8, linewidth=0, palette = \"flare\",\n",
    "             order = ['MLP', 'Decision Tree', 'KNN', 'Random Forest', 'Gradient Boosting', 'Support Vector'])\n",
    "\n",
    "# Tweak the visual presentation\n",
    "ax.xaxis.grid(True)\n",
    "ax.set(ylabel=\"\", xlabel = \"predicting time (s)\")\n",
    "sns.despine(trim=True, left=True)"
   ]
  },
  {
   "cell_type": "code",
   "execution_count": 446,
   "metadata": {},
   "outputs": [
    {
     "data": {
      "image/png": "[encoded data removed]",
      "text/plain": [
       "<Figure size 216x288 with 1 Axes>"
      ]
     },
     "metadata": {},
     "output_type": "display_data"
    }
   ],
   "source": [
    "accuracies_df_plot = accuracies_df[(accuracies_df.model != 'Nearest Centroid') & (accuracies_df.model != 'Lin Stoch-Grad-Desc') & (accuracies_df.model != 'Naive Bayes')]\n",
    "\n",
    "sns.set_theme(style=\"ticks\")\n",
    "\n",
    "# Initialize the figure with a logarithmic x axis\n",
    "f, ax = plt.subplots(figsize=(3, 4))\n",
    "#ax.set_xlim(200, 0)\n",
    "#ax.axvline(0.79, ls='--', label = 'Human eye', color = \"grey\")\n",
    "\n",
    "# Plot the orbital period with horizontal boxes\n",
    "sns.boxplot(x=\"time_to_fit\", y=\"model\", data=accuracies_df_plot, width=1, palette = \"flare\", \n",
    "           order = ['MLP', 'Decision Tree', 'KNN', 'Random Forest', 'Gradient Boosting', 'Support Vector'])\n",
    "\n",
    "# Add in points to show each observation\n",
    "sns.stripplot(x=\"time_to_fit\", y=\"model\", data=accuracies_df_plot,\n",
    "              size=8, linewidth=0, palette = \"flare\",\n",
    "             order = ['MLP', 'Decision Tree', 'KNN', 'Random Forest', 'Gradient Boosting', 'Support Vector'])\n",
    "\n",
    "# Tweak the visual presentation\n",
    "ax.xaxis.grid(True)\n",
    "ax.set(ylabel=\"\", xlabel = \"training time (s)\")\n",
    "sns.despine(trim=True, left=True)"
   ]
  }
 ],
 "metadata": {
  "kernelspec": {
   "display_name": "Python 3",
   "language": "python",
   "name": "python3"
  },
  "language_info": {
   "codemirror_mode": {
    "name": "ipython",
    "version": 3
   },
   "file_extension": ".py",
   "mimetype": "text/x-python",
   "name": "python",
   "nbconvert_exporter": "python",
   "pygments_lexer": "ipython3",
   "version": "3.8.3"
  }
 },
 "nbformat": 4,
 "nbformat_minor": 4
}
