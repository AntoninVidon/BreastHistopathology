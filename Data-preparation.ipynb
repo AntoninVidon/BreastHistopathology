{
 "cells": [
  {
   "cell_type": "markdown",
   "metadata": {},
   "source": [
    "# Data preparation"
   ]
  },
  {
   "cell_type": "code",
   "execution_count": 1,
   "metadata": {},
   "outputs": [
    {
     "data": {
      "application/vnd.jupyter.widget-view+json": {
       "model_id": "989028f53fa048dca5878feb7ae3590a",
       "version_major": 2,
       "version_minor": 0
      },
      "text/plain": [
       "HBox(children=(HTML(value=''), FloatProgress(value=1.0, bar_style='info', layout=Layout(width='20px'), max=1.0…"
      ]
     },
     "metadata": {},
     "output_type": "display_data"
    },
    {
     "name": "stderr",
     "output_type": "stream",
     "text": [
      "C:\\Users\\anton\\anaconda3\\lib\\site-packages\\tqdm\\std.py:703: FutureWarning: The Panel class is removed from pandas. Accessing it from the top-level namespace will also be removed in the next version\n",
      "  from pandas import Panel\n"
     ]
    }
   ],
   "source": [
    "from pathlib import Path\n",
    "import numpy as np \n",
    "import pandas as pd\n",
    "import pickle\n",
    "from skimage import io\n",
    "from tqdm.notebook import tqdm\n",
    "tqdm().pandas();\n",
    "import os"
   ]
  },
  {
   "cell_type": "markdown",
   "metadata": {},
   "source": [
    "## 1. Extracting paths & metadata in a dataframe"
   ]
  },
  {
   "cell_type": "code",
   "execution_count": 2,
   "metadata": {},
   "outputs": [],
   "source": [
    "# Extract and store all image paths into a list\n",
    "def store_image_paths(input_path = Path.cwd()/'input/breast-histopathology-images'):\n",
    "    image_paths = [image_path for image_path in Path.glob(input_path,pattern = '*/*/*.png')]\n",
    "    return image_paths\n",
    "\n",
    "\n",
    "# Extract all metadata into a dictionary\n",
    "def store_metadata(image_paths) -> dict:\n",
    "    path_data = {'path':[],'patient_id':[],'x_coord':[] ,'y_coord':[],'target':[]}\n",
    "    for image_path in tqdm(image_paths, total = len(image_paths)):\n",
    "        \n",
    "        # get only filename and split to get such a list : ['10253', 'idx5', 'x1001', 'y1001', 'class0.png']\n",
    "        filename_splitted = str(image_path).split('\\\\')[-1].split('_')\n",
    "        \n",
    "        path_data['path'].append(image_path)\n",
    "        path_data['patient_id'].append(filename_splitted[0])\n",
    "        path_data['x_coord'].append(filename_splitted[2][1:])\n",
    "        path_data['y_coord'].append(filename_splitted[3][1:])\n",
    "        path_data['target'].append(filename_splitted[4][5])   \n",
    "        \n",
    "    return path_data"
   ]
  },
  {
   "cell_type": "code",
   "execution_count": 3,
   "metadata": {},
   "outputs": [
    {
     "name": "stdout",
     "output_type": "stream",
     "text": [
      "\n"
     ]
    },
    {
     "data": {
      "application/vnd.jupyter.widget-view+json": {
       "model_id": "96c3e40de4f1483ca289dd556f7e45a5",
       "version_major": 2,
       "version_minor": 0
      },
      "text/plain": [
       "HBox(children=(HTML(value=''), FloatProgress(value=0.0, max=277524.0), HTML(value='')))"
      ]
     },
     "metadata": {},
     "output_type": "display_data"
    },
    {
     "name": "stdout",
     "output_type": "stream",
     "text": [
      "\n"
     ]
    }
   ],
   "source": [
    "image_paths = store_image_paths()\n",
    "path_data = store_metadata(image_paths)\n",
    "\n",
    "# Create dataframe from dictionary\n",
    "df_total = pd.DataFrame.from_dict(path_data)\n",
    "df_total = df_total.astype({\"patient_id\" : int, \"x_coord\": int, \"y_coord\": int, \"target\" : int})"
   ]
  },
  {
   "cell_type": "code",
   "execution_count": 4,
   "metadata": {
    "scrolled": true
   },
   "outputs": [
    {
     "name": "stdout",
     "output_type": "stream",
     "text": [
      "<class 'pandas.core.frame.DataFrame'>\n",
      "RangeIndex: 277524 entries, 0 to 277523\n",
      "Data columns (total 5 columns):\n",
      " #   Column      Non-Null Count   Dtype \n",
      "---  ------      --------------   ----- \n",
      " 0   path        277524 non-null  object\n",
      " 1   patient_id  277524 non-null  int32 \n",
      " 2   x_coord     277524 non-null  int32 \n",
      " 3   y_coord     277524 non-null  int32 \n",
      " 4   target      277524 non-null  int32 \n",
      "dtypes: int32(4), object(1)\n",
      "memory usage: 6.4+ MB\n"
     ]
    }
   ],
   "source": [
    "df_total.info()"
   ]
  },
  {
   "cell_type": "markdown",
   "metadata": {},
   "source": [
    "## 2. Extracting patches arrays"
   ]
  },
  {
   "cell_type": "code",
   "execution_count": 5,
   "metadata": {},
   "outputs": [
    {
     "data": {
      "application/vnd.jupyter.widget-view+json": {
       "model_id": "c2870f0aadc44eb788b545608b20677c",
       "version_major": 2,
       "version_minor": 0
      },
      "text/plain": [
       "HBox(children=(HTML(value=''), FloatProgress(value=0.0, max=277524.0), HTML(value='')))"
      ]
     },
     "metadata": {},
     "output_type": "display_data"
    },
    {
     "name": "stdout",
     "output_type": "stream",
     "text": [
      "\n"
     ]
    },
    {
     "data": {
      "application/vnd.jupyter.widget-view+json": {
       "model_id": "a2d3c9254f8d415ea261c3df97bbc586",
       "version_major": 2,
       "version_minor": 0
      },
      "text/plain": [
       "HBox(children=(HTML(value=''), FloatProgress(value=0.0, max=277524.0), HTML(value='')))"
      ]
     },
     "metadata": {},
     "output_type": "display_data"
    },
    {
     "name": "stdout",
     "output_type": "stream",
     "text": [
      "\n"
     ]
    }
   ],
   "source": [
    "def get_img_arrays(df,):\n",
    "    # read each image array from corresponding path as grayscale and flatten the image array\n",
    "    df['img_array'] = df.progress_apply(lambda x : io.imread(x['path']).flatten(),axis=1); # make sure to specify axis = 1\n",
    "    # get the shape of each image array and store it in the dataframe\n",
    "    df['array_shape'] = df.progress_apply(lambda x : x['img_array'].shape[0],axis=1); # make sure to specify axis = 1\n",
    "    return df\n",
    "\n",
    "df_img = get_img_arrays(df = df_total)"
   ]
  },
  {
   "cell_type": "markdown",
   "metadata": {},
   "source": [
    "## 3. Removing outliers"
   ]
  },
  {
   "cell_type": "code",
   "execution_count": 6,
   "metadata": {},
   "outputs": [],
   "source": [
    "# get all images that do not have an array shape of 7500\n",
    "weird_imgs = df_img[df_img['array_shape'] != 7500] \n",
    "\n",
    "# drop images using indices of the filter\n",
    "df_img.drop(weird_imgs.index,inplace=True) "
   ]
  },
  {
   "cell_type": "markdown",
   "metadata": {},
   "source": [
    "## 4. Selecting sample for model training"
   ]
  },
  {
   "cell_type": "code",
   "execution_count": 7,
   "metadata": {},
   "outputs": [],
   "source": [
    "# quantity of cancerous and healthy data to be used for model training\n",
    "size_cancerous_sample = 10000\n",
    "size_healthy_sample = 10000\n",
    "\n",
    "cancerous_indexes = np.random.choice(df_img[df_img['target']==1].index, size=size_cancerous_sample, replace=False)\n",
    "healthy_indexes = np.random.choice(df_img[df_img['target']==0].index, size=size_healthy_sample, replace=False)\n",
    "all_indexes = np.concatenate((cancerous_indexes, healthy_indexes))\n",
    "\n",
    "sample_df = df_img.loc[all_indexes,:]"
   ]
  },
  {
   "cell_type": "markdown",
   "metadata": {},
   "source": [
    "## 5. Performing PCA on images"
   ]
  },
  {
   "cell_type": "code",
   "execution_count": 12,
   "metadata": {},
   "outputs": [],
   "source": [
    "from datetime import datetime\n",
    "from sklearn.decomposition import PCA"
   ]
  },
  {
   "cell_type": "code",
   "execution_count": 13,
   "metadata": {},
   "outputs": [],
   "source": [
    "img_arrays = np.zeros((sample_df.shape[0], 7500))\n",
    "\n",
    "# add all the image arrays to the numpy array that we just initialized\n",
    "for i,array in enumerate(sample_df['img_array']):\n",
    "    img_arrays[i,:] = array"
   ]
  },
  {
   "cell_type": "code",
   "execution_count": 14,
   "metadata": {},
   "outputs": [
    {
     "name": "stdout",
     "output_type": "stream",
     "text": [
      "0:05:43.816271\n"
     ]
    }
   ],
   "source": [
    "init_time = datetime.now() \n",
    "\n",
    "images_pca = PCA(0.8)\n",
    "\n",
    "# fit the function to our image arrays\n",
    "images_pca.fit(img_arrays);\n",
    "\n",
    "final_time = datetime.now()\n",
    "\n",
    "print(final_time - init_time)"
   ]
  },
  {
   "cell_type": "code",
   "execution_count": 15,
   "metadata": {
    "scrolled": true
   },
   "outputs": [
    {
     "data": {
      "application/vnd.jupyter.widget-view+json": {
       "model_id": "b62f0d4302bf4962992f84a9695c257e",
       "version_major": 2,
       "version_minor": 0
      },
      "text/plain": [
       "HBox(children=(HTML(value=''), FloatProgress(value=0.0, max=20000.0), HTML(value='')))"
      ]
     },
     "metadata": {},
     "output_type": "display_data"
    },
    {
     "name": "stdout",
     "output_type": "stream",
     "text": [
      "\n"
     ]
    }
   ],
   "source": [
    "sample_df['pca_array'] = sample_df['img_array'].progress_apply(lambda x: images_pca.transform([x]).flatten());"
   ]
  },
  {
   "cell_type": "code",
   "execution_count": 29,
   "metadata": {},
   "outputs": [
    {
     "data": {
      "text/html": [
       "<div>\n",
       "<style scoped>\n",
       "    .dataframe tbody tr th:only-of-type {\n",
       "        vertical-align: middle;\n",
       "    }\n",
       "\n",
       "    .dataframe tbody tr th {\n",
       "        vertical-align: top;\n",
       "    }\n",
       "\n",
       "    .dataframe thead th {\n",
       "        text-align: right;\n",
       "    }\n",
       "</style>\n",
       "<table border=\"1\" class=\"dataframe\">\n",
       "  <thead>\n",
       "    <tr style=\"text-align: right;\">\n",
       "      <th></th>\n",
       "      <th>path</th>\n",
       "      <th>patient_id</th>\n",
       "      <th>x_coord</th>\n",
       "      <th>y_coord</th>\n",
       "      <th>target</th>\n",
       "      <th>img_array</th>\n",
       "      <th>array_shape</th>\n",
       "      <th>pca_array</th>\n",
       "    </tr>\n",
       "  </thead>\n",
       "  <tbody>\n",
       "    <tr>\n",
       "      <th>192497</th>\n",
       "      <td>C:\\Users\\anton\\Documents\\ML Projects\\Breast Cl...</td>\n",
       "      <td>16554</td>\n",
       "      <td>551</td>\n",
       "      <td>1301</td>\n",
       "      <td>1</td>\n",
       "      <td>[222, 181, 199, 225, 177, 199, 224, 165, 191, ...</td>\n",
       "      <td>7500</td>\n",
       "      <td>[339.27909168279393, 205.07866746574393, -91.3...</td>\n",
       "    </tr>\n",
       "    <tr>\n",
       "      <th>227325</th>\n",
       "      <td>C:\\Users\\anton\\Documents\\ML Projects\\Breast Cl...</td>\n",
       "      <td>9077</td>\n",
       "      <td>1501</td>\n",
       "      <td>1301</td>\n",
       "      <td>1</td>\n",
       "      <td>[228, 209, 220, 218, 199, 215, 210, 190, 212, ...</td>\n",
       "      <td>7500</td>\n",
       "      <td>[-1639.6465021716242, 170.60474865510534, -124...</td>\n",
       "    </tr>\n",
       "    <tr>\n",
       "      <th>252580</th>\n",
       "      <td>C:\\Users\\anton\\Documents\\ML Projects\\Breast Cl...</td>\n",
       "      <td>9257</td>\n",
       "      <td>1601</td>\n",
       "      <td>901</td>\n",
       "      <td>1</td>\n",
       "      <td>[204, 132, 173, 202, 137, 170, 206, 150, 183, ...</td>\n",
       "      <td>7500</td>\n",
       "      <td>[2007.3033646687752, -161.69294358216584, 25.2...</td>\n",
       "    </tr>\n",
       "    <tr>\n",
       "      <th>16216</th>\n",
       "      <td>C:\\Users\\anton\\Documents\\ML Projects\\Breast Cl...</td>\n",
       "      <td>10273</td>\n",
       "      <td>1351</td>\n",
       "      <td>2151</td>\n",
       "      <td>1</td>\n",
       "      <td>[161, 97, 159, 132, 93, 149, 220, 188, 210, 18...</td>\n",
       "      <td>7500</td>\n",
       "      <td>[3329.5729634833674, 345.93163163454653, -81.2...</td>\n",
       "    </tr>\n",
       "    <tr>\n",
       "      <th>59085</th>\n",
       "      <td>C:\\Users\\anton\\Documents\\ML Projects\\Breast Cl...</td>\n",
       "      <td>12751</td>\n",
       "      <td>1651</td>\n",
       "      <td>1651</td>\n",
       "      <td>1</td>\n",
       "      <td>[139, 110, 147, 195, 162, 186, 133, 111, 152, ...</td>\n",
       "      <td>7500</td>\n",
       "      <td>[1661.246158370532, -159.08556159077523, -135....</td>\n",
       "    </tr>\n",
       "  </tbody>\n",
       "</table>\n",
       "</div>"
      ],
      "text/plain": [
       "                                                     path  patient_id  \\\n",
       "192497  C:\\Users\\anton\\Documents\\ML Projects\\Breast Cl...       16554   \n",
       "227325  C:\\Users\\anton\\Documents\\ML Projects\\Breast Cl...        9077   \n",
       "252580  C:\\Users\\anton\\Documents\\ML Projects\\Breast Cl...        9257   \n",
       "16216   C:\\Users\\anton\\Documents\\ML Projects\\Breast Cl...       10273   \n",
       "59085   C:\\Users\\anton\\Documents\\ML Projects\\Breast Cl...       12751   \n",
       "\n",
       "        x_coord  y_coord  target  \\\n",
       "192497      551     1301       1   \n",
       "227325     1501     1301       1   \n",
       "252580     1601      901       1   \n",
       "16216      1351     2151       1   \n",
       "59085      1651     1651       1   \n",
       "\n",
       "                                                img_array  array_shape  \\\n",
       "192497  [222, 181, 199, 225, 177, 199, 224, 165, 191, ...         7500   \n",
       "227325  [228, 209, 220, 218, 199, 215, 210, 190, 212, ...         7500   \n",
       "252580  [204, 132, 173, 202, 137, 170, 206, 150, 183, ...         7500   \n",
       "16216   [161, 97, 159, 132, 93, 149, 220, 188, 210, 18...         7500   \n",
       "59085   [139, 110, 147, 195, 162, 186, 133, 111, 152, ...         7500   \n",
       "\n",
       "                                                pca_array  \n",
       "192497  [339.27909168279393, 205.07866746574393, -91.3...  \n",
       "227325  [-1639.6465021716242, 170.60474865510534, -124...  \n",
       "252580  [2007.3033646687752, -161.69294358216584, 25.2...  \n",
       "16216   [3329.5729634833674, 345.93163163454653, -81.2...  \n",
       "59085   [1661.246158370532, -159.08556159077523, -135....  "
      ]
     },
     "execution_count": 29,
     "metadata": {},
     "output_type": "execute_result"
    }
   ],
   "source": [
    "sample_df.head()"
   ]
  },
  {
   "cell_type": "markdown",
   "metadata": {},
   "source": [
    "## 6. Saving data as pickle file"
   ]
  },
  {
   "cell_type": "code",
   "execution_count": 36,
   "metadata": {},
   "outputs": [],
   "source": [
    "# sample_df.to_pickle(\"./training-data.pkl\")"
   ]
  }
 ],
 "metadata": {
  "kernelspec": {
   "display_name": "Python 3",
   "language": "python",
   "name": "python3"
  },
  "language_info": {
   "codemirror_mode": {
    "name": "ipython",
    "version": 3
   },
   "file_extension": ".py",
   "mimetype": "text/x-python",
   "name": "python",
   "nbconvert_exporter": "python",
   "pygments_lexer": "ipython3",
   "version": "3.8.3"
  }
 },
 "nbformat": 4,
 "nbformat_minor": 4
}
