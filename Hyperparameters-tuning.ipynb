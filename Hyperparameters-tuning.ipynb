{
 "cells": [
  {
   "cell_type": "markdown",
   "metadata": {},
   "source": [
    "# Hyperparameters tuning"
   ]
  },
  {
   "cell_type": "code",
   "execution_count": 1,
   "metadata": {},
   "outputs": [],
   "source": [
    "import numpy as np \n",
    "import pandas as pd\n",
    "import pickle\n",
    "import matplotlib.pyplot as plt\n",
    "from sklearn.model_selection import train_test_split\n",
    "from sklearn import metrics\n",
    "from sklearn.metrics import plot_confusion_matrix\n",
    "from sklearn.model_selection import GridSearchCV\n",
    "from datetime import datetime\n",
    "from tqdm.notebook import tqdm"
   ]
  },
  {
   "cell_type": "markdown",
   "metadata": {},
   "source": [
    "## 1. Loading the sample data"
   ]
  },
  {
   "cell_type": "code",
   "execution_count": 2,
   "metadata": {},
   "outputs": [],
   "source": [
    "sample_df = pd.read_pickle(\"./training-data.pkl\")"
   ]
  },
  {
   "cell_type": "code",
   "execution_count": 3,
   "metadata": {},
   "outputs": [],
   "source": [
    "inputs = np.vstack(sample_df['pca_array'])\n",
    "targets = sample_df['target'].to_numpy()"
   ]
  },
  {
   "cell_type": "markdown",
   "metadata": {},
   "source": [
    "## 2. Split into train and test split"
   ]
  },
  {
   "cell_type": "code",
   "execution_count": 4,
   "metadata": {},
   "outputs": [],
   "source": [
    "X_train, X_test, y_train, y_test =  train_test_split(inputs, targets, train_size=0.7, shuffle = True)"
   ]
  },
  {
   "cell_type": "markdown",
   "metadata": {},
   "source": [
    "## 3. Tuning models"
   ]
  },
  {
   "cell_type": "markdown",
   "metadata": {},
   "source": [
    "### 3.1. Random Forest Classifier"
   ]
  },
  {
   "cell_type": "code",
   "execution_count": 5,
   "metadata": {},
   "outputs": [],
   "source": [
    "#Import Random Forest Model\n",
    "from sklearn.ensemble import RandomForestClassifier"
   ]
  },
  {
   "cell_type": "code",
   "execution_count": 6,
   "metadata": {},
   "outputs": [],
   "source": [
    "RFC = RandomForestClassifier(n_estimators = 200, verbose = True)"
   ]
  },
  {
   "cell_type": "code",
   "execution_count": 7,
   "metadata": {},
   "outputs": [
    {
     "name": "stderr",
     "output_type": "stream",
     "text": [
      "[Parallel(n_jobs=1)]: Using backend SequentialBackend with 1 concurrent workers.\n",
      "[Parallel(n_jobs=1)]: Done 200 out of 200 | elapsed:   34.2s finished\n"
     ]
    },
    {
     "data": {
      "text/plain": [
       "RandomForestClassifier(n_estimators=200, verbose=True)"
      ]
     },
     "execution_count": 7,
     "metadata": {},
     "output_type": "execute_result"
    }
   ],
   "source": [
    "RFC.fit(X_train, y_train)"
   ]
  },
  {
   "cell_type": "code",
   "execution_count": 8,
   "metadata": {},
   "outputs": [
    {
     "name": "stderr",
     "output_type": "stream",
     "text": [
      "[Parallel(n_jobs=1)]: Using backend SequentialBackend with 1 concurrent workers.\n",
      "[Parallel(n_jobs=1)]: Done 200 out of 200 | elapsed:    0.1s finished\n"
     ]
    }
   ],
   "source": [
    "y_pred = RFC.predict(X_test)"
   ]
  },
  {
   "cell_type": "code",
   "execution_count": 9,
   "metadata": {},
   "outputs": [
    {
     "name": "stdout",
     "output_type": "stream",
     "text": [
      "Accuracy: 78.45%\n"
     ]
    }
   ],
   "source": [
    "RFC_accuracy = metrics.accuracy_score(y_test, y_pred)\n",
    "print(\"Accuracy: {:2.2%}\".format(RFC_accuracy))"
   ]
  },
  {
   "cell_type": "code",
   "execution_count": 10,
   "metadata": {},
   "outputs": [
    {
     "name": "stderr",
     "output_type": "stream",
     "text": [
      "[Parallel(n_jobs=1)]: Using backend SequentialBackend with 1 concurrent workers.\n",
      "[Parallel(n_jobs=1)]: Done 200 out of 200 | elapsed:    0.1s finished\n"
     ]
    },
    {
     "data": {
      "image/png": "[encoded data removed]",
      "text/plain": [
       "<Figure size 432x288 with 2 Axes>"
      ]
     },
     "metadata": {
      "needs_background": "light"
     },
     "output_type": "display_data"
    }
   ],
   "source": [
    "plot_confusion_matrix(RFC, X_test, y_test)  \n",
    "plt.show()  "
   ]
  },
  {
   "cell_type": "code",
   "execution_count": 11,
   "metadata": {},
   "outputs": [],
   "source": [
    "param_grid = {\n",
    "    'bootstrap': [True],\n",
    "    'max_depth': [None],\n",
    "    'min_samples_leaf': [3, 4],\n",
    "    'min_samples_split': [8, 10],\n",
    "    'n_estimators': [100, 200, 300, 1000]\n",
    "}"
   ]
  },
  {
   "cell_type": "code",
   "execution_count": 12,
   "metadata": {},
   "outputs": [],
   "source": [
    "RFC = RandomForestClassifier()"
   ]
  },
  {
   "cell_type": "code",
   "execution_count": 13,
   "metadata": {},
   "outputs": [],
   "source": [
    "grid_search = GridSearchCV(estimator = RFC, param_grid = param_grid, scoring = 'accuracy', verbose = 10, n_jobs = -1)"
   ]
  },
  {
   "cell_type": "code",
   "execution_count": 15,
   "metadata": {},
   "outputs": [
    {
     "name": "stdout",
     "output_type": "stream",
     "text": [
      "Fitting 5 folds for each of 16 candidates, totalling 80 fits\n"
     ]
    },
    {
     "name": "stderr",
     "output_type": "stream",
     "text": [
      "[Parallel(n_jobs=-1)]: Using backend LokyBackend with 8 concurrent workers.\n",
      "[Parallel(n_jobs=-1)]: Done   2 tasks      | elapsed:   25.0s\n",
      "[Parallel(n_jobs=-1)]: Done   9 tasks      | elapsed:  1.3min\n",
      "[Parallel(n_jobs=-1)]: Done  16 tasks      | elapsed:  2.2min\n",
      "[Parallel(n_jobs=-1)]: Done  25 tasks      | elapsed:  4.4min\n",
      "[Parallel(n_jobs=-1)]: Done  34 tasks      | elapsed:  6.6min\n",
      "[Parallel(n_jobs=-1)]: Done  45 tasks      | elapsed:  9.1min\n",
      "[Parallel(n_jobs=-1)]: Done  56 tasks      | elapsed: 11.8min\n",
      "[Parallel(n_jobs=-1)]: Done  74 out of  80 | elapsed: 18.3min remaining:  1.5min\n",
      "[Parallel(n_jobs=-1)]: Done  80 out of  80 | elapsed: 21.3min finished\n"
     ]
    },
    {
     "name": "stdout",
     "output_type": "stream",
     "text": [
      "0:24:06.899729\n"
     ]
    }
   ],
   "source": [
    "init_time = datetime.now() \n",
    "\n",
    "grid_search.fit(X_train, y_train)\n",
    "\n",
    "final_time = datetime.now()\n",
    "\n",
    "print(final_time - init_time)"
   ]
  },
  {
   "cell_type": "code",
   "execution_count": 16,
   "metadata": {},
   "outputs": [
    {
     "data": {
      "text/plain": [
       "{'bootstrap': True,\n",
       " 'max_depth': None,\n",
       " 'min_samples_leaf': 3,\n",
       " 'min_samples_split': 10,\n",
       " 'n_estimators': 1000}"
      ]
     },
     "execution_count": 16,
     "metadata": {},
     "output_type": "execute_result"
    }
   ],
   "source": [
    "grid_search.best_params_"
   ]
  },
  {
   "cell_type": "code",
   "execution_count": 19,
   "metadata": {},
   "outputs": [],
   "source": [
    "RFC_best = RandomForestClassifier(bootstrap = None, max_depth = None, min_samples_leaf = 3, min_samples_split = 10, n_estimators = 1000)"
   ]
  },
  {
   "cell_type": "code",
   "execution_count": 20,
   "metadata": {},
   "outputs": [
    {
     "data": {
      "text/plain": [
       "RandomForestClassifier(bootstrap=None, min_samples_leaf=3, min_samples_split=10,\n",
       "                       n_estimators=1000)"
      ]
     },
     "execution_count": 20,
     "metadata": {},
     "output_type": "execute_result"
    }
   ],
   "source": [
    "RFC_best.fit(X_train, y_train)"
   ]
  },
  {
   "cell_type": "code",
   "execution_count": 22,
   "metadata": {},
   "outputs": [
    {
     "name": "stdout",
     "output_type": "stream",
     "text": [
      "Accuracy: 79.67%\n"
     ]
    }
   ],
   "source": [
    "y_pred_best = RFC_best.predict(X_test)\n",
    "RFC_best_accuracy = metrics.accuracy_score(y_test, y_pred_best)\n",
    "print(\"Accuracy: {:2.2%}\".format(RFC_best_accuracy))"
   ]
  },
  {
   "cell_type": "code",
   "execution_count": 23,
   "metadata": {},
   "outputs": [
    {
     "data": {
      "image/png": "[encoded data removed]",
      "text/plain": [
       "<Figure size 432x288 with 2 Axes>"
      ]
     },
     "metadata": {
      "needs_background": "light"
     },
     "output_type": "display_data"
    }
   ],
   "source": [
    "plot_confusion_matrix(RFC_best, X_test, y_test)  \n",
    "plt.show() "
   ]
  },
  {
   "cell_type": "code",
   "execution_count": 25,
   "metadata": {},
   "outputs": [],
   "source": [
    "param_grid2 = {\n",
    "    'bootstrap': [True],\n",
    "    'max_depth': [None],\n",
    "    'min_samples_leaf': [2, 3],\n",
    "    'min_samples_split': [10, 12],\n",
    "    'n_estimators': [200, 600, 1000]\n",
    "}"
   ]
  },
  {
   "cell_type": "code",
   "execution_count": 26,
   "metadata": {},
   "outputs": [],
   "source": [
    "RFC = RandomForestClassifier()"
   ]
  },
  {
   "cell_type": "code",
   "execution_count": 27,
   "metadata": {},
   "outputs": [],
   "source": [
    "grid_search2 = GridSearchCV(estimator = RFC, param_grid = param_grid2, scoring = 'accuracy', verbose = 10, n_jobs = -1)"
   ]
  },
  {
   "cell_type": "code",
   "execution_count": 28,
   "metadata": {},
   "outputs": [
    {
     "name": "stdout",
     "output_type": "stream",
     "text": [
      "Fitting 5 folds for each of 12 candidates, totalling 60 fits\n"
     ]
    },
    {
     "name": "stderr",
     "output_type": "stream",
     "text": [
      "[Parallel(n_jobs=-1)]: Using backend LokyBackend with 8 concurrent workers.\n",
      "[Parallel(n_jobs=-1)]: Done   2 tasks      | elapsed:   53.5s\n",
      "[Parallel(n_jobs=-1)]: Done   9 tasks      | elapsed:  3.6min\n",
      "[Parallel(n_jobs=-1)]: Done  16 tasks      | elapsed:  5.4min\n",
      "[Parallel(n_jobs=-1)]: Done  25 tasks      | elapsed:  8.3min\n",
      "[Parallel(n_jobs=-1)]: Done  34 tasks      | elapsed: 12.1min\n",
      "[Parallel(n_jobs=-1)]: Done  45 tasks      | elapsed: 16.1min\n",
      "[Parallel(n_jobs=-1)]: Done  52 out of  60 | elapsed: 18.2min remaining:  2.8min\n",
      "[Parallel(n_jobs=-1)]: Done  60 out of  60 | elapsed: 22.3min finished\n"
     ]
    },
    {
     "name": "stdout",
     "output_type": "stream",
     "text": [
      "0:25:01.806103\n"
     ]
    }
   ],
   "source": [
    "init_time = datetime.now() \n",
    "\n",
    "grid_search2.fit(X_train, y_train)\n",
    "\n",
    "final_time = datetime.now()\n",
    "\n",
    "print(final_time - init_time)"
   ]
  },
  {
   "cell_type": "code",
   "execution_count": 29,
   "metadata": {},
   "outputs": [
    {
     "data": {
      "text/plain": [
       "{'bootstrap': True,\n",
       " 'max_depth': None,\n",
       " 'min_samples_leaf': 3,\n",
       " 'min_samples_split': 12,\n",
       " 'n_estimators': 1000}"
      ]
     },
     "execution_count": 29,
     "metadata": {},
     "output_type": "execute_result"
    }
   ],
   "source": [
    "grid_search2.best_params_"
   ]
  },
  {
   "cell_type": "code",
   "execution_count": 34,
   "metadata": {},
   "outputs": [],
   "source": [
    "RFC_best_2 = RandomForestClassifier(bootstrap = None, max_depth = None, min_samples_leaf = 3, min_samples_split = 12, n_estimators = 1000)"
   ]
  },
  {
   "cell_type": "code",
   "execution_count": 35,
   "metadata": {},
   "outputs": [
    {
     "name": "stdout",
     "output_type": "stream",
     "text": [
      "0:04:44.766828\n"
     ]
    }
   ],
   "source": [
    "init_time = datetime.now() \n",
    "RFC_best_2.fit(X_train, y_train)\n",
    "print(datetime.now() - init_time)"
   ]
  },
  {
   "cell_type": "code",
   "execution_count": 36,
   "metadata": {},
   "outputs": [
    {
     "name": "stdout",
     "output_type": "stream",
     "text": [
      "Accuracy: 79.65%\n"
     ]
    }
   ],
   "source": [
    "y_pred_best_2 = RFC_best_2.predict(X_test)\n",
    "RFC_best_accuracy_2 = metrics.accuracy_score(y_test, y_pred_best_2)\n",
    "print(\"Accuracy: {:2.2%}\".format(RFC_best_accuracy_2))"
   ]
  },
  {
   "cell_type": "code",
   "execution_count": 37,
   "metadata": {},
   "outputs": [
    {
     "data": {
      "image/png": "[encoded data removed]",
      "text/plain": [
       "<Figure size 432x288 with 2 Axes>"
      ]
     },
     "metadata": {
      "needs_background": "light"
     },
     "output_type": "display_data"
    }
   ],
   "source": [
    "plot_confusion_matrix(RFC_best_2, X_test, y_test)  \n",
    "plt.show() "
   ]
  },
  {
   "cell_type": "code",
   "execution_count": 38,
   "metadata": {},
   "outputs": [],
   "source": [
    "RFC = RandomForestClassifier()"
   ]
  },
  {
   "cell_type": "markdown",
   "metadata": {},
   "source": [
    "### 3.2. K-Nearest Neighbors Classifier"
   ]
  },
  {
   "cell_type": "code",
   "execution_count": 43,
   "metadata": {},
   "outputs": [],
   "source": [
    "from sklearn.neighbors import KNeighborsClassifier"
   ]
  },
  {
   "cell_type": "code",
   "execution_count": 45,
   "metadata": {},
   "outputs": [],
   "source": [
    "KNC = KNeighborsClassifier()"
   ]
  },
  {
   "cell_type": "code",
   "execution_count": 46,
   "metadata": {},
   "outputs": [
    {
     "data": {
      "text/plain": [
       "KNeighborsClassifier()"
      ]
     },
     "execution_count": 46,
     "metadata": {},
     "output_type": "execute_result"
    }
   ],
   "source": [
    "KNC.fit(X_train, y_train)"
   ]
  },
  {
   "cell_type": "code",
   "execution_count": 47,
   "metadata": {},
   "outputs": [
    {
     "name": "stdout",
     "output_type": "stream",
     "text": [
      "Accuracy: 77.52%\n"
     ]
    }
   ],
   "source": [
    "y_pred = KNC.predict(X_test)\n",
    "KNC_accuracy = metrics.accuracy_score(y_test, y_pred)\n",
    "print(\"Accuracy: {:2.2%}\".format(KNC_accuracy))"
   ]
  },
  {
   "cell_type": "code",
   "execution_count": 48,
   "metadata": {},
   "outputs": [
    {
     "data": {
      "image/png": "[encoded data removed]",
      "text/plain": [
       "<Figure size 432x288 with 2 Axes>"
      ]
     },
     "metadata": {
      "needs_background": "light"
     },
     "output_type": "display_data"
    }
   ],
   "source": [
    "plot_confusion_matrix(KNC, X_test, y_test)  \n",
    "plt.show() "
   ]
  },
  {
   "cell_type": "code",
   "execution_count": 69,
   "metadata": {},
   "outputs": [],
   "source": [
    "KNC = KNeighborsClassifier()"
   ]
  },
  {
   "cell_type": "code",
   "execution_count": 70,
   "metadata": {},
   "outputs": [],
   "source": [
    "param_grid_KNC = {\n",
    "    'n_neighbors': [5,10, 20],\n",
    "    'leaf_size': [20,30,40],\n",
    "    'p': [1,2],\n",
    "    'weights': ['uniform', 'distance'],\n",
    "    'metric': ['minkowski', 'chebyshev']\n",
    "}"
   ]
  },
  {
   "cell_type": "code",
   "execution_count": 71,
   "metadata": {},
   "outputs": [],
   "source": [
    "grid_search_KNC = GridSearchCV(estimator = KNC, param_grid = param_grid_KNC, scoring = 'accuracy', verbose = 10, n_jobs = -1)"
   ]
  },
  {
   "cell_type": "code",
   "execution_count": 72,
   "metadata": {},
   "outputs": [
    {
     "name": "stdout",
     "output_type": "stream",
     "text": [
      "Fitting 5 folds for each of 72 candidates, totalling 360 fits\n"
     ]
    },
    {
     "name": "stderr",
     "output_type": "stream",
     "text": [
      "[Parallel(n_jobs=-1)]: Using backend LokyBackend with 8 concurrent workers.\n",
      "[Parallel(n_jobs=-1)]: Done   2 tasks      | elapsed:   39.4s\n",
      "[Parallel(n_jobs=-1)]: Done   9 tasks      | elapsed:   59.2s\n",
      "[Parallel(n_jobs=-1)]: Done  16 tasks      | elapsed:  1.3min\n",
      "[Parallel(n_jobs=-1)]: Done  25 tasks      | elapsed:  1.9min\n",
      "[Parallel(n_jobs=-1)]: Done  34 tasks      | elapsed:  2.3min\n",
      "[Parallel(n_jobs=-1)]: Done  45 tasks      | elapsed:  3.2min\n",
      "[Parallel(n_jobs=-1)]: Done  56 tasks      | elapsed:  3.5min\n",
      "[Parallel(n_jobs=-1)]: Done  69 tasks      | elapsed:  3.8min\n",
      "[Parallel(n_jobs=-1)]: Done  82 tasks      | elapsed:  4.0min\n",
      "[Parallel(n_jobs=-1)]: Done  97 tasks      | elapsed:  4.2min\n",
      "[Parallel(n_jobs=-1)]: Done 112 tasks      | elapsed:  4.4min\n",
      "[Parallel(n_jobs=-1)]: Done 129 tasks      | elapsed:  5.3min\n",
      "[Parallel(n_jobs=-1)]: Done 146 tasks      | elapsed:  6.1min\n",
      "[Parallel(n_jobs=-1)]: Done 165 tasks      | elapsed:  7.2min\n",
      "[Parallel(n_jobs=-1)]: Done 184 tasks      | elapsed:  7.7min\n",
      "[Parallel(n_jobs=-1)]: Done 205 tasks      | elapsed:  7.9min\n",
      "[Parallel(n_jobs=-1)]: Done 226 tasks      | elapsed:  8.2min\n",
      "[Parallel(n_jobs=-1)]: Done 249 tasks      | elapsed:  9.2min\n",
      "[Parallel(n_jobs=-1)]: Done 272 tasks      | elapsed: 10.3min\n",
      "[Parallel(n_jobs=-1)]: Done 297 tasks      | elapsed: 11.5min\n",
      "[Parallel(n_jobs=-1)]: Done 322 tasks      | elapsed: 11.8min\n",
      "[Parallel(n_jobs=-1)]: Done 360 out of 360 | elapsed: 12.3min finished\n"
     ]
    },
    {
     "name": "stdout",
     "output_type": "stream",
     "text": [
      "0:12:18.885639\n"
     ]
    }
   ],
   "source": [
    "init_time = datetime.now() \n",
    "\n",
    "grid_search_KNC.fit(X_train, y_train)\n",
    "\n",
    "final_time = datetime.now()\n",
    "\n",
    "print(final_time - init_time)"
   ]
  },
  {
   "cell_type": "code",
   "execution_count": 73,
   "metadata": {},
   "outputs": [
    {
     "data": {
      "text/plain": [
       "{'leaf_size': 20,\n",
       " 'metric': 'chebyshev',\n",
       " 'n_neighbors': 20,\n",
       " 'p': 1,\n",
       " 'weights': 'uniform'}"
      ]
     },
     "execution_count": 73,
     "metadata": {},
     "output_type": "execute_result"
    }
   ],
   "source": [
    "grid_search_KNC.best_params_"
   ]
  },
  {
   "cell_type": "code",
   "execution_count": 74,
   "metadata": {},
   "outputs": [],
   "source": [
    "KNC_best = grid_search_KNC.best_estimator_"
   ]
  },
  {
   "cell_type": "code",
   "execution_count": 75,
   "metadata": {},
   "outputs": [
    {
     "name": "stdout",
     "output_type": "stream",
     "text": [
      "0:00:00.887846\n"
     ]
    }
   ],
   "source": [
    "init_time = datetime.now() \n",
    "KNC_best.fit(X_train, y_train)\n",
    "print(datetime.now() - init_time)"
   ]
  },
  {
   "cell_type": "code",
   "execution_count": 76,
   "metadata": {},
   "outputs": [
    {
     "name": "stdout",
     "output_type": "stream",
     "text": [
      "Accuracy: 79.17%\n"
     ]
    }
   ],
   "source": [
    "y_pred = KNC_best.predict(X_test)\n",
    "KNC_accuracy_best = metrics.accuracy_score(y_test, y_pred)\n",
    "print(\"Accuracy: {:2.2%}\".format(KNC_accuracy_best))"
   ]
  },
  {
   "cell_type": "code",
   "execution_count": 77,
   "metadata": {},
   "outputs": [
    {
     "data": {
      "image/png": "[encoded data removed]",
      "text/plain": [
       "<Figure size 432x288 with 2 Axes>"
      ]
     },
     "metadata": {
      "needs_background": "light"
     },
     "output_type": "display_data"
    }
   ],
   "source": [
    "plot_confusion_matrix(KNC_best, X_test, y_test)  \n",
    "plt.show() "
   ]
  },
  {
   "cell_type": "markdown",
   "metadata": {},
   "source": [
    "### 3.3. Decision Tree Classifier"
   ]
  },
  {
   "cell_type": "code",
   "execution_count": 78,
   "metadata": {},
   "outputs": [],
   "source": [
    "from sklearn.tree import DecisionTreeClassifier"
   ]
  },
  {
   "cell_type": "code",
   "execution_count": 79,
   "metadata": {},
   "outputs": [],
   "source": [
    "DTC = DecisionTreeClassifier()"
   ]
  },
  {
   "cell_type": "code",
   "execution_count": 80,
   "metadata": {},
   "outputs": [
    {
     "data": {
      "text/plain": [
       "DecisionTreeClassifier()"
      ]
     },
     "execution_count": 80,
     "metadata": {},
     "output_type": "execute_result"
    }
   ],
   "source": [
    "DTC.fit(X_train, y_train)"
   ]
  },
  {
   "cell_type": "code",
   "execution_count": 81,
   "metadata": {},
   "outputs": [
    {
     "name": "stdout",
     "output_type": "stream",
     "text": [
      "Accuracy: 71.75%\n"
     ]
    }
   ],
   "source": [
    "y_pred = DTC.predict(X_test)\n",
    "DTC_accuracy = metrics.accuracy_score(y_test, y_pred)\n",
    "print(\"Accuracy: {:2.2%}\".format(DTC_accuracy))"
   ]
  },
  {
   "cell_type": "code",
   "execution_count": 84,
   "metadata": {},
   "outputs": [],
   "source": [
    "DTC = DecisionTreeClassifier()"
   ]
  },
  {
   "cell_type": "code",
   "execution_count": 85,
   "metadata": {},
   "outputs": [],
   "source": [
    "param_grid_DTC = {\n",
    "    'max_leaf_nodes': [2,4,8,10,20,30,50,100],\n",
    "    'min_samples_split': [2, 3, 4]\n",
    "}"
   ]
  },
  {
   "cell_type": "code",
   "execution_count": 86,
   "metadata": {},
   "outputs": [],
   "source": [
    "grid_search_DTC = GridSearchCV(estimator = DTC, param_grid = param_grid_DTC, scoring = 'accuracy', verbose = 10, n_jobs = -1)"
   ]
  },
  {
   "cell_type": "code",
   "execution_count": 87,
   "metadata": {},
   "outputs": [
    {
     "name": "stdout",
     "output_type": "stream",
     "text": [
      "Fitting 5 folds for each of 24 candidates, totalling 120 fits\n"
     ]
    },
    {
     "name": "stderr",
     "output_type": "stream",
     "text": [
      "[Parallel(n_jobs=-1)]: Using backend LokyBackend with 8 concurrent workers.\n",
      "[Parallel(n_jobs=-1)]: Done   2 tasks      | elapsed:    2.9s\n",
      "[Parallel(n_jobs=-1)]: Done   9 tasks      | elapsed:    3.9s\n",
      "[Parallel(n_jobs=-1)]: Done  16 tasks      | elapsed:    4.6s\n",
      "[Parallel(n_jobs=-1)]: Done  25 tasks      | elapsed:    6.6s\n",
      "[Parallel(n_jobs=-1)]: Done  34 tasks      | elapsed:    8.4s\n",
      "[Parallel(n_jobs=-1)]: Done  45 tasks      | elapsed:   10.4s\n",
      "[Parallel(n_jobs=-1)]: Done  56 tasks      | elapsed:   13.5s\n",
      "[Parallel(n_jobs=-1)]: Done  69 tasks      | elapsed:   17.2s\n",
      "[Parallel(n_jobs=-1)]: Done  82 tasks      | elapsed:   22.0s\n",
      "[Parallel(n_jobs=-1)]: Done  97 tasks      | elapsed:   27.8s\n",
      "[Parallel(n_jobs=-1)]: Done 118 out of 120 | elapsed:   36.4s remaining:    0.5s\n",
      "[Parallel(n_jobs=-1)]: Done 120 out of 120 | elapsed:   36.9s finished\n"
     ]
    },
    {
     "name": "stdout",
     "output_type": "stream",
     "text": [
      "0:00:38.978051\n"
     ]
    }
   ],
   "source": [
    "init_time = datetime.now() \n",
    "\n",
    "grid_search_DTC.fit(X_train, y_train)\n",
    "\n",
    "final_time = datetime.now()\n",
    "\n",
    "print(final_time - init_time)"
   ]
  },
  {
   "cell_type": "code",
   "execution_count": 88,
   "metadata": {
    "scrolled": true
   },
   "outputs": [
    {
     "data": {
      "text/plain": [
       "{'max_leaf_nodes': 30, 'min_samples_split': 2}"
      ]
     },
     "execution_count": 88,
     "metadata": {},
     "output_type": "execute_result"
    }
   ],
   "source": [
    "grid_search_DTC.best_params_"
   ]
  },
  {
   "cell_type": "code",
   "execution_count": 89,
   "metadata": {},
   "outputs": [],
   "source": [
    "DTC_best = grid_search_DTC.best_estimator_"
   ]
  },
  {
   "cell_type": "code",
   "execution_count": 90,
   "metadata": {},
   "outputs": [
    {
     "name": "stdout",
     "output_type": "stream",
     "text": [
      "0:00:01.865134\n"
     ]
    }
   ],
   "source": [
    "init_time = datetime.now() \n",
    "DTC_best.fit(X_train, y_train)\n",
    "print(datetime.now() - init_time)"
   ]
  },
  {
   "cell_type": "code",
   "execution_count": 91,
   "metadata": {},
   "outputs": [
    {
     "name": "stdout",
     "output_type": "stream",
     "text": [
      "Accuracy: 78.72%\n"
     ]
    }
   ],
   "source": [
    "y_pred = DTC_best.predict(X_test)\n",
    "DTC_accuracy_best = metrics.accuracy_score(y_test, y_pred)\n",
    "print(\"Accuracy: {:2.2%}\".format(DTC_accuracy_best))"
   ]
  },
  {
   "cell_type": "code",
   "execution_count": 92,
   "metadata": {},
   "outputs": [
    {
     "data": {
      "image/png": "[encoded data removed]",
      "text/plain": [
       "<Figure size 432x288 with 2 Axes>"
      ]
     },
     "metadata": {
      "needs_background": "light"
     },
     "output_type": "display_data"
    }
   ],
   "source": [
    "plot_confusion_matrix(DTC_best, X_test, y_test)  \n",
    "plt.show() "
   ]
  },
  {
   "cell_type": "markdown",
   "metadata": {},
   "source": [
    "### 3.4. MLP Classifier"
   ]
  },
  {
   "cell_type": "code",
   "execution_count": 93,
   "metadata": {},
   "outputs": [],
   "source": [
    "from sklearn.neural_network import MLPClassifier"
   ]
  },
  {
   "cell_type": "code",
   "execution_count": 94,
   "metadata": {},
   "outputs": [],
   "source": [
    "MLP = MLPClassifier()"
   ]
  },
  {
   "cell_type": "code",
   "execution_count": 95,
   "metadata": {},
   "outputs": [
    {
     "data": {
      "text/plain": [
       "MLPClassifier()"
      ]
     },
     "execution_count": 95,
     "metadata": {},
     "output_type": "execute_result"
    }
   ],
   "source": [
    "MLP.fit(X_train, y_train)"
   ]
  },
  {
   "cell_type": "code",
   "execution_count": 96,
   "metadata": {},
   "outputs": [
    {
     "name": "stdout",
     "output_type": "stream",
     "text": [
      "Accuracy: 70.03%\n"
     ]
    }
   ],
   "source": [
    "y_pred = MLP.predict(X_test)\n",
    "MLP_accuracy = metrics.accuracy_score(y_test, y_pred)\n",
    "print(\"Accuracy: {:2.2%}\".format(MLP_accuracy))"
   ]
  },
  {
   "cell_type": "code",
   "execution_count": 98,
   "metadata": {},
   "outputs": [
    {
     "data": {
      "image/png": "[encoded data removed]",
      "text/plain": [
       "<Figure size 432x288 with 2 Axes>"
      ]
     },
     "metadata": {
      "needs_background": "light"
     },
     "output_type": "display_data"
    }
   ],
   "source": [
    "plot_confusion_matrix(MLP, X_test, y_test)  \n",
    "plt.show() "
   ]
  },
  {
   "cell_type": "code",
   "execution_count": 101,
   "metadata": {},
   "outputs": [],
   "source": [
    "MLP = MLPClassifier()"
   ]
  },
  {
   "cell_type": "code",
   "execution_count": 102,
   "metadata": {},
   "outputs": [],
   "source": [
    "param_grid_MLP = {\n",
    "    'hidden_layer_sizes': [(10,30,10),(20,)],\n",
    "    'activation': ['tanh', 'relu'],\n",
    "    'solver': ['sgd', 'adam'],\n",
    "    'alpha': [0.0001, 0.05],\n",
    "    'learning_rate': ['constant','adaptive'],\n",
    "}"
   ]
  },
  {
   "cell_type": "code",
   "execution_count": 103,
   "metadata": {},
   "outputs": [],
   "source": [
    "grid_search_MLP = GridSearchCV(estimator = MLP, param_grid = param_grid_MLP, scoring = 'accuracy', verbose = 10, n_jobs = -1)"
   ]
  },
  {
   "cell_type": "code",
   "execution_count": 104,
   "metadata": {},
   "outputs": [
    {
     "name": "stdout",
     "output_type": "stream",
     "text": [
      "Fitting 5 folds for each of 32 candidates, totalling 160 fits\n"
     ]
    },
    {
     "name": "stderr",
     "output_type": "stream",
     "text": [
      "[Parallel(n_jobs=-1)]: Using backend LokyBackend with 8 concurrent workers.\n",
      "[Parallel(n_jobs=-1)]: Done   2 tasks      | elapsed:    8.3s\n",
      "[Parallel(n_jobs=-1)]: Done   9 tasks      | elapsed:   25.2s\n",
      "[Parallel(n_jobs=-1)]: Done  16 tasks      | elapsed:   41.9s\n",
      "[Parallel(n_jobs=-1)]: Done  25 tasks      | elapsed:   49.5s\n",
      "[Parallel(n_jobs=-1)]: Done  34 tasks      | elapsed:  1.2min\n",
      "[Parallel(n_jobs=-1)]: Done  45 tasks      | elapsed:  1.5min\n",
      "[Parallel(n_jobs=-1)]: Done  56 tasks      | elapsed:  2.0min\n",
      "[Parallel(n_jobs=-1)]: Done  69 tasks      | elapsed:  2.4min\n",
      "[Parallel(n_jobs=-1)]: Done  82 tasks      | elapsed:  3.0min\n",
      "[Parallel(n_jobs=-1)]: Done  97 tasks      | elapsed:  3.7min\n",
      "[Parallel(n_jobs=-1)]: Done 112 tasks      | elapsed:  4.0min\n",
      "[Parallel(n_jobs=-1)]: Done 129 tasks      | elapsed:  4.7min\n",
      "[Parallel(n_jobs=-1)]: Done 160 out of 160 | elapsed:  5.6min finished\n"
     ]
    },
    {
     "name": "stdout",
     "output_type": "stream",
     "text": [
      "0:05:37.394886\n"
     ]
    }
   ],
   "source": [
    "init_time = datetime.now() \n",
    "\n",
    "grid_search_MLP.fit(X_train, y_train)\n",
    "\n",
    "final_time = datetime.now()\n",
    "\n",
    "print(final_time - init_time)"
   ]
  },
  {
   "cell_type": "code",
   "execution_count": 105,
   "metadata": {},
   "outputs": [
    {
     "data": {
      "text/plain": [
       "{'activation': 'tanh',\n",
       " 'alpha': 0.05,\n",
       " 'hidden_layer_sizes': (20,),\n",
       " 'learning_rate': 'constant',\n",
       " 'solver': 'sgd'}"
      ]
     },
     "execution_count": 105,
     "metadata": {},
     "output_type": "execute_result"
    }
   ],
   "source": [
    "grid_search_MLP.best_params_"
   ]
  },
  {
   "cell_type": "code",
   "execution_count": 106,
   "metadata": {},
   "outputs": [],
   "source": [
    "MLP_best = grid_search_MLP.best_estimator_"
   ]
  },
  {
   "cell_type": "code",
   "execution_count": 107,
   "metadata": {},
   "outputs": [
    {
     "name": "stdout",
     "output_type": "stream",
     "text": [
      "0:00:04.250655\n"
     ]
    }
   ],
   "source": [
    "init_time = datetime.now() \n",
    "MLP_best.fit(X_train, y_train)\n",
    "print(datetime.now() - init_time)"
   ]
  },
  {
   "cell_type": "code",
   "execution_count": 108,
   "metadata": {},
   "outputs": [
    {
     "name": "stdout",
     "output_type": "stream",
     "text": [
      "Accuracy: 76.48%\n"
     ]
    }
   ],
   "source": [
    "y_pred = MLP_best.predict(X_test)\n",
    "MLP_accuracy_best = metrics.accuracy_score(y_test, y_pred)\n",
    "print(\"Accuracy: {:2.2%}\".format(MLP_accuracy_best))"
   ]
  },
  {
   "cell_type": "code",
   "execution_count": 109,
   "metadata": {},
   "outputs": [
    {
     "data": {
      "image/png": "[encoded data removed]",
      "text/plain": [
       "<Figure size 432x288 with 2 Axes>"
      ]
     },
     "metadata": {
      "needs_background": "light"
     },
     "output_type": "display_data"
    }
   ],
   "source": [
    "plot_confusion_matrix(MLP_best, X_test, y_test)  \n",
    "plt.show() "
   ]
  },
  {
   "cell_type": "markdown",
   "metadata": {},
   "source": [
    "### 3.5. Support Vector Classification"
   ]
  },
  {
   "cell_type": "code",
   "execution_count": 24,
   "metadata": {},
   "outputs": [],
   "source": [
    "from sklearn.svm import SVC as SupportVectorClassifier"
   ]
  },
  {
   "cell_type": "code",
   "execution_count": 25,
   "metadata": {},
   "outputs": [],
   "source": [
    "SVC = SupportVectorClassifier(kernel = 'rbf', C = 1.0, gamma = 'scale')"
   ]
  },
  {
   "cell_type": "code",
   "execution_count": 26,
   "metadata": {},
   "outputs": [
    {
     "data": {
      "text/plain": [
       "SVC()"
      ]
     },
     "execution_count": 26,
     "metadata": {},
     "output_type": "execute_result"
    }
   ],
   "source": [
    "SVC.fit(X_train, y_train)"
   ]
  },
  {
   "cell_type": "code",
   "execution_count": 27,
   "metadata": {},
   "outputs": [
    {
     "name": "stdout",
     "output_type": "stream",
     "text": [
      "Accuracy: 81.75%\n"
     ]
    }
   ],
   "source": [
    "y_pred = SVC.predict(X_test)\n",
    "SVC_accuracy = metrics.accuracy_score(y_test, y_pred)\n",
    "print(\"Accuracy: {:2.2%}\".format(SVC_accuracy))"
   ]
  },
  {
   "cell_type": "code",
   "execution_count": 28,
   "metadata": {},
   "outputs": [
    {
     "data": {
      "image/png": "[encoded data removed]",
      "text/plain": [
       "<Figure size 432x288 with 2 Axes>"
      ]
     },
     "metadata": {
      "needs_background": "light"
     },
     "output_type": "display_data"
    }
   ],
   "source": [
    "plot_confusion_matrix(SVC, X_test, y_test)  \n",
    "plt.show() "
   ]
  },
  {
   "cell_type": "code",
   "execution_count": 12,
   "metadata": {},
   "outputs": [],
   "source": [
    "SVC = SupportVectorClassifier()"
   ]
  },
  {
   "cell_type": "code",
   "execution_count": 119,
   "metadata": {},
   "outputs": [],
   "source": [
    "param_grid_SVC = [{'kernel': ['rbf'], 'gamma': ['scale', 'auto'],\n",
    "                     'C': [1, 10, 100, 1000]},\n",
    "                    {'kernel': ['linear'], 'C': [1, 10, 100, 1000]}]"
   ]
  },
  {
   "cell_type": "code",
   "execution_count": 29,
   "metadata": {},
   "outputs": [],
   "source": [
    "param_grid_SVC = {'kernel': ['rbf'], 'gamma': ['scale', 'auto'],\n",
    "                     'C': [1, 10]}"
   ]
  },
  {
   "cell_type": "code",
   "execution_count": 30,
   "metadata": {},
   "outputs": [],
   "source": [
    "grid_search_SVC = GridSearchCV(estimator = SVC, param_grid = param_grid_SVC, scoring = 'accuracy', verbose = 10, n_jobs = -1)"
   ]
  },
  {
   "cell_type": "code",
   "execution_count": 31,
   "metadata": {},
   "outputs": [
    {
     "name": "stdout",
     "output_type": "stream",
     "text": [
      "Fitting 5 folds for each of 4 candidates, totalling 20 fits\n"
     ]
    },
    {
     "name": "stderr",
     "output_type": "stream",
     "text": [
      "[Parallel(n_jobs=-1)]: Using backend LokyBackend with 8 concurrent workers.\n",
      "[Parallel(n_jobs=-1)]: Done   2 tasks      | elapsed:  1.0min\n",
      "[Parallel(n_jobs=-1)]: Done   8 out of  20 | elapsed:  2.5min remaining:  3.7min\n",
      "[Parallel(n_jobs=-1)]: Done  11 out of  20 | elapsed:  3.4min remaining:  2.8min\n",
      "[Parallel(n_jobs=-1)]: Done  14 out of  20 | elapsed:  4.3min remaining:  1.9min\n",
      "[Parallel(n_jobs=-1)]: Done  17 out of  20 | elapsed:  6.6min remaining:  1.2min\n",
      "[Parallel(n_jobs=-1)]: Done  20 out of  20 | elapsed:  6.8min remaining:    0.0s\n",
      "[Parallel(n_jobs=-1)]: Done  20 out of  20 | elapsed:  6.8min finished\n"
     ]
    },
    {
     "name": "stdout",
     "output_type": "stream",
     "text": [
      "0:07:17.413049\n"
     ]
    }
   ],
   "source": [
    "init_time = datetime.now() \n",
    "\n",
    "grid_search_SVC.fit(X_train, y_train)\n",
    "\n",
    "final_time = datetime.now()\n",
    "\n",
    "print(final_time - init_time)"
   ]
  },
  {
   "cell_type": "code",
   "execution_count": 32,
   "metadata": {},
   "outputs": [
    {
     "data": {
      "text/plain": [
       "{'C': 1, 'gamma': 'scale', 'kernel': 'rbf'}"
      ]
     },
     "execution_count": 32,
     "metadata": {},
     "output_type": "execute_result"
    }
   ],
   "source": [
    "grid_search_SVC.best_params_"
   ]
  },
  {
   "cell_type": "code",
   "execution_count": 33,
   "metadata": {},
   "outputs": [],
   "source": [
    "SVC_best = grid_search_SVC.best_estimator_"
   ]
  },
  {
   "cell_type": "code",
   "execution_count": 34,
   "metadata": {},
   "outputs": [
    {
     "name": "stdout",
     "output_type": "stream",
     "text": [
      "0:00:32.116995\n"
     ]
    }
   ],
   "source": [
    "init_time = datetime.now() \n",
    "SVC_best.fit(X_train, y_train)\n",
    "print(datetime.now() - init_time)"
   ]
  },
  {
   "cell_type": "code",
   "execution_count": 35,
   "metadata": {},
   "outputs": [
    {
     "name": "stdout",
     "output_type": "stream",
     "text": [
      "Accuracy: 81.75%\n"
     ]
    }
   ],
   "source": [
    "y_pred = SVC_best.predict(X_test)\n",
    "SVC_accuracy_best = metrics.accuracy_score(y_test, y_pred)\n",
    "print(\"Accuracy: {:2.2%}\".format(SVC_accuracy_best))"
   ]
  },
  {
   "cell_type": "code",
   "execution_count": 36,
   "metadata": {},
   "outputs": [
    {
     "data": {
      "image/png": "[encoded data removed]",
      "text/plain": [
       "<Figure size 432x288 with 2 Axes>"
      ]
     },
     "metadata": {
      "needs_background": "light"
     },
     "output_type": "display_data"
    }
   ],
   "source": [
    "plot_confusion_matrix(SVC_best, X_test, y_test)  \n",
    "plt.show() "
   ]
  },
  {
   "cell_type": "markdown",
   "metadata": {},
   "source": [
    "### 3.6. Linear Stochastic Gradient Descent"
   ]
  },
  {
   "cell_type": "code",
   "execution_count": 159,
   "metadata": {},
   "outputs": [],
   "source": [
    "from sklearn.linear_model import SGDClassifier"
   ]
  },
  {
   "cell_type": "code",
   "execution_count": 61,
   "metadata": {},
   "outputs": [],
   "source": [
    "SGD = SGDClassifier()"
   ]
  },
  {
   "cell_type": "code",
   "execution_count": 62,
   "metadata": {},
   "outputs": [
    {
     "data": {
      "text/plain": [
       "SGDClassifier()"
      ]
     },
     "execution_count": 62,
     "metadata": {},
     "output_type": "execute_result"
    }
   ],
   "source": [
    "SGD.fit(X_train, y_train)"
   ]
  },
  {
   "cell_type": "code",
   "execution_count": 63,
   "metadata": {},
   "outputs": [
    {
     "name": "stdout",
     "output_type": "stream",
     "text": [
      "Accuracy: 72.92%\n"
     ]
    }
   ],
   "source": [
    "y_pred = SGD.predict(X_test)\n",
    "SGD_accuracy = metrics.accuracy_score(y_test, y_pred)\n",
    "print(\"Accuracy: {:2.2%}\".format(SGD_accuracy))"
   ]
  },
  {
   "cell_type": "code",
   "execution_count": 64,
   "metadata": {},
   "outputs": [
    {
     "data": {
      "image/png": "[encoded data removed]",
      "text/plain": [
       "<Figure size 432x288 with 2 Axes>"
      ]
     },
     "metadata": {
      "needs_background": "light"
     },
     "output_type": "display_data"
    }
   ],
   "source": [
    "plot_confusion_matrix(SGD, X_test, y_test)  \n",
    "plt.show() "
   ]
  },
  {
   "cell_type": "code",
   "execution_count": 66,
   "metadata": {},
   "outputs": [],
   "source": [
    "SGD = SGDClassifier()"
   ]
  },
  {
   "cell_type": "code",
   "execution_count": 67,
   "metadata": {},
   "outputs": [],
   "source": [
    "param_grid_SGD = {\n",
    "    'alpha': [10 ** x for x in range(-6, 1)],\n",
    "    'l1_ratio': [0, 0.05, 0.1, 0.2, 0.5, 0.8, 0.9, 0.95, 1],\n",
    "}"
   ]
  },
  {
   "cell_type": "code",
   "execution_count": 68,
   "metadata": {},
   "outputs": [],
   "source": [
    "grid_search_SGD = GridSearchCV(estimator = SGD, param_grid = param_grid_SGD, scoring = 'accuracy', verbose = 10, n_jobs = -1)"
   ]
  },
  {
   "cell_type": "code",
   "execution_count": 69,
   "metadata": {},
   "outputs": [
    {
     "name": "stdout",
     "output_type": "stream",
     "text": [
      "Fitting 5 folds for each of 63 candidates, totalling 315 fits\n"
     ]
    },
    {
     "name": "stderr",
     "output_type": "stream",
     "text": [
      "[Parallel(n_jobs=-1)]: Using backend LokyBackend with 8 concurrent workers.\n",
      "[Parallel(n_jobs=-1)]: Done   2 tasks      | elapsed:    3.6s\n",
      "[Parallel(n_jobs=-1)]: Done   9 tasks      | elapsed:    4.9s\n",
      "[Parallel(n_jobs=-1)]: Done  16 tasks      | elapsed:    7.4s\n",
      "[Parallel(n_jobs=-1)]: Done  25 tasks      | elapsed:    9.9s\n",
      "[Parallel(n_jobs=-1)]: Done  34 tasks      | elapsed:   12.5s\n",
      "[Parallel(n_jobs=-1)]: Done  45 tasks      | elapsed:   15.3s\n",
      "[Parallel(n_jobs=-1)]: Done  56 tasks      | elapsed:   18.7s\n",
      "[Parallel(n_jobs=-1)]: Done  69 tasks      | elapsed:   22.4s\n",
      "[Parallel(n_jobs=-1)]: Done  82 tasks      | elapsed:   26.1s\n",
      "[Parallel(n_jobs=-1)]: Done  97 tasks      | elapsed:   30.5s\n",
      "[Parallel(n_jobs=-1)]: Done 112 tasks      | elapsed:   34.4s\n",
      "[Parallel(n_jobs=-1)]: Done 129 tasks      | elapsed:   39.9s\n",
      "[Parallel(n_jobs=-1)]: Done 146 tasks      | elapsed:   44.7s\n",
      "[Parallel(n_jobs=-1)]: Done 165 tasks      | elapsed:   51.2s\n",
      "[Parallel(n_jobs=-1)]: Done 184 tasks      | elapsed:   56.4s\n",
      "[Parallel(n_jobs=-1)]: Done 205 tasks      | elapsed:  1.0min\n",
      "[Parallel(n_jobs=-1)]: Done 226 tasks      | elapsed:  1.1min\n",
      "[Parallel(n_jobs=-1)]: Done 249 tasks      | elapsed:  1.2min\n",
      "[Parallel(n_jobs=-1)]: Done 272 tasks      | elapsed:  1.3min\n",
      "[Parallel(n_jobs=-1)]: Done 297 tasks      | elapsed:  1.5min\n",
      "[Parallel(n_jobs=-1)]: Done 315 out of 315 | elapsed:  1.5min finished\n"
     ]
    },
    {
     "name": "stdout",
     "output_type": "stream",
     "text": [
      "0:01:33.043791\n"
     ]
    }
   ],
   "source": [
    "init_time = datetime.now() \n",
    "\n",
    "grid_search_SGD.fit(X_train, y_train)\n",
    "\n",
    "final_time = datetime.now()\n",
    "\n",
    "print(final_time - init_time)"
   ]
  },
  {
   "cell_type": "code",
   "execution_count": 75,
   "metadata": {},
   "outputs": [
    {
     "data": {
      "text/plain": [
       "{'alpha': 1, 'l1_ratio': 0.05}"
      ]
     },
     "execution_count": 75,
     "metadata": {},
     "output_type": "execute_result"
    }
   ],
   "source": [
    "grid_search_SGD.best_params_"
   ]
  },
  {
   "cell_type": "code",
   "execution_count": 76,
   "metadata": {},
   "outputs": [],
   "source": [
    "SGD_best = grid_search_SGD.best_estimator_"
   ]
  },
  {
   "cell_type": "code",
   "execution_count": 77,
   "metadata": {},
   "outputs": [
    {
     "name": "stdout",
     "output_type": "stream",
     "text": [
      "0:00:01.121002\n"
     ]
    }
   ],
   "source": [
    "init_time = datetime.now() \n",
    "SGD_best.fit(X_train, y_train)\n",
    "print(datetime.now() - init_time)"
   ]
  },
  {
   "cell_type": "code",
   "execution_count": 78,
   "metadata": {},
   "outputs": [
    {
     "name": "stdout",
     "output_type": "stream",
     "text": [
      "Accuracy: 75.02%\n"
     ]
    }
   ],
   "source": [
    "y_pred = SGD_best.predict(X_test)\n",
    "SGD_accuracy_best = metrics.accuracy_score(y_test, y_pred)\n",
    "print(\"Accuracy: {:2.2%}\".format(SGD_accuracy_best))"
   ]
  },
  {
   "cell_type": "code",
   "execution_count": 79,
   "metadata": {},
   "outputs": [
    {
     "data": {
      "image/png": "[encoded data removed]",
      "text/plain": [
       "<Figure size 432x288 with 2 Axes>"
      ]
     },
     "metadata": {
      "needs_background": "light"
     },
     "output_type": "display_data"
    }
   ],
   "source": [
    "plot_confusion_matrix(SGD_best, X_test, y_test)  \n",
    "plt.show() "
   ]
  },
  {
   "cell_type": "markdown",
   "metadata": {},
   "source": [
    "### 3.7. Nearest Centroid Classifier"
   ]
  },
  {
   "cell_type": "code",
   "execution_count": 89,
   "metadata": {},
   "outputs": [],
   "source": [
    "from sklearn.neighbors import NearestCentroid"
   ]
  },
  {
   "cell_type": "code",
   "execution_count": 90,
   "metadata": {},
   "outputs": [],
   "source": [
    "NCC = NearestCentroid()"
   ]
  },
  {
   "cell_type": "code",
   "execution_count": 91,
   "metadata": {},
   "outputs": [
    {
     "name": "stdout",
     "output_type": "stream",
     "text": [
      "0:00:00.018950\n"
     ]
    }
   ],
   "source": [
    "init_time = datetime.now() \n",
    "\n",
    "NCC.fit(X_train, y_train)\n",
    "\n",
    "final_time = datetime.now()\n",
    "\n",
    "print(final_time - init_time)"
   ]
  },
  {
   "cell_type": "code",
   "execution_count": 92,
   "metadata": {},
   "outputs": [
    {
     "name": "stdout",
     "output_type": "stream",
     "text": [
      "Accuracy: 73.15%\n"
     ]
    }
   ],
   "source": [
    "y_pred = NCC.predict(X_test)\n",
    "NCC_accuracy = metrics.accuracy_score(y_test, y_pred)\n",
    "print(\"Accuracy: {:2.2%}\".format(NCC_accuracy))"
   ]
  },
  {
   "cell_type": "code",
   "execution_count": 93,
   "metadata": {},
   "outputs": [
    {
     "data": {
      "image/png": "[encoded data removed]",
      "text/plain": [
       "<Figure size 432x288 with 2 Axes>"
      ]
     },
     "metadata": {
      "needs_background": "light"
     },
     "output_type": "display_data"
    }
   ],
   "source": [
    "plot_confusion_matrix(NCC, X_test, y_test)  \n",
    "plt.show() "
   ]
  },
  {
   "cell_type": "markdown",
   "metadata": {},
   "source": [
    "### 3.8. Naive Bayes Classifier"
   ]
  },
  {
   "cell_type": "code",
   "execution_count": 151,
   "metadata": {},
   "outputs": [],
   "source": [
    "from sklearn.naive_bayes import GaussianNB"
   ]
  },
  {
   "cell_type": "code",
   "execution_count": 105,
   "metadata": {},
   "outputs": [],
   "source": [
    "NBC = GaussianNB()"
   ]
  },
  {
   "cell_type": "code",
   "execution_count": 109,
   "metadata": {},
   "outputs": [
    {
     "name": "stdout",
     "output_type": "stream",
     "text": [
      "0:00:00.058857\n"
     ]
    }
   ],
   "source": [
    "init_time = datetime.now() \n",
    "\n",
    "NBC.fit(X_train, y_train)\n",
    "\n",
    "final_time = datetime.now()\n",
    "\n",
    "print(final_time - init_time)"
   ]
  },
  {
   "cell_type": "code",
   "execution_count": 107,
   "metadata": {},
   "outputs": [
    {
     "name": "stdout",
     "output_type": "stream",
     "text": [
      "Accuracy: 60.17%\n"
     ]
    }
   ],
   "source": [
    "y_pred = NBC.predict(X_test)\n",
    "NBC_accuracy = metrics.accuracy_score(y_test, y_pred)\n",
    "print(\"Accuracy: {:2.2%}\".format(NBC_accuracy))"
   ]
  },
  {
   "cell_type": "code",
   "execution_count": 110,
   "metadata": {},
   "outputs": [
    {
     "data": {
      "image/png": "[encoded data removed]",
      "text/plain": [
       "<Figure size 432x288 with 2 Axes>"
      ]
     },
     "metadata": {
      "needs_background": "light"
     },
     "output_type": "display_data"
    }
   ],
   "source": [
    "plot_confusion_matrix(NBC, X_test, y_test)  \n",
    "plt.show() "
   ]
  },
  {
   "cell_type": "markdown",
   "metadata": {},
   "source": [
    "### 3.9. Gradient Boosting Classifier"
   ]
  },
  {
   "cell_type": "code",
   "execution_count": 5,
   "metadata": {},
   "outputs": [],
   "source": [
    "from sklearn.ensemble import GradientBoostingClassifier"
   ]
  },
  {
   "cell_type": "code",
   "execution_count": 6,
   "metadata": {},
   "outputs": [],
   "source": [
    "GBC = GradientBoostingClassifier()"
   ]
  },
  {
   "cell_type": "code",
   "execution_count": null,
   "metadata": {},
   "outputs": [],
   "source": [
    "init_time = datetime.now() \n",
    "\n",
    "GBC.fit(X_train, y_train)\n",
    "\n",
    "final_time = datetime.now()\n",
    "\n",
    "print(final_time - init_time)"
   ]
  },
  {
   "cell_type": "code",
   "execution_count": 118,
   "metadata": {},
   "outputs": [
    {
     "name": "stdout",
     "output_type": "stream",
     "text": [
      "Accuracy: 81.38%\n"
     ]
    }
   ],
   "source": [
    "y_pred = GBC.predict(X_test)\n",
    "GBC_accuracy = metrics.accuracy_score(y_test, y_pred)\n",
    "print(\"Accuracy: {:2.2%}\".format(GBC_accuracy))"
   ]
  },
  {
   "cell_type": "code",
   "execution_count": 131,
   "metadata": {},
   "outputs": [
    {
     "data": {
      "image/png": "[encoded data removed]",
      "text/plain": [
       "<Figure size 432x288 with 2 Axes>"
      ]
     },
     "metadata": {
      "needs_background": "light"
     },
     "output_type": "display_data"
    }
   ],
   "source": [
    "plot_confusion_matrix(GBC, X_test, y_test)  \n",
    "plt.show() "
   ]
  },
  {
   "cell_type": "code",
   "execution_count": 7,
   "metadata": {},
   "outputs": [],
   "source": [
    "param_grid_GBC = {\n",
    "    \"loss\":[\"deviance\"],\n",
    "    \"learning_rate\": [0.01, 0.1, 0.2],\n",
    "    \"min_samples_split\": np.linspace(0.1, 0.5, 2),\n",
    "    \"min_samples_leaf\": np.linspace(0.1, 0.5, 2),\n",
    "    \"max_depth\":[3,5,8],\n",
    "    \"max_features\":[\"log2\",\"sqrt\"],\n",
    "    #\"criterion\": [\"friedman_mse\",  \"mae\"],\n",
    "    \"subsample\":[0.5, 1.0],\n",
    "    \"n_estimators\":[100]\n",
    "    }"
   ]
  },
  {
   "cell_type": "code",
   "execution_count": 8,
   "metadata": {},
   "outputs": [],
   "source": [
    "grid_search_GBC = GridSearchCV(estimator = GBC, param_grid = param_grid_GBC, scoring = 'accuracy', verbose = 10, n_jobs = -1)"
   ]
  },
  {
   "cell_type": "code",
   "execution_count": 9,
   "metadata": {},
   "outputs": [
    {
     "name": "stdout",
     "output_type": "stream",
     "text": [
      "Fitting 5 folds for each of 144 candidates, totalling 720 fits\n"
     ]
    },
    {
     "name": "stderr",
     "output_type": "stream",
     "text": [
      "[Parallel(n_jobs=-1)]: Using backend LokyBackend with 8 concurrent workers.\n",
      "[Parallel(n_jobs=-1)]: Done   2 tasks      | elapsed:    3.7s\n",
      "[Parallel(n_jobs=-1)]: Done   9 tasks      | elapsed:    5.4s\n",
      "[Parallel(n_jobs=-1)]: Done  16 tasks      | elapsed:    7.3s\n",
      "[Parallel(n_jobs=-1)]: Done  25 tasks      | elapsed:    9.6s\n",
      "[Parallel(n_jobs=-1)]: Done  34 tasks      | elapsed:   10.7s\n",
      "[Parallel(n_jobs=-1)]: Done  45 tasks      | elapsed:   16.2s\n",
      "[Parallel(n_jobs=-1)]: Done  56 tasks      | elapsed:   22.7s\n",
      "[Parallel(n_jobs=-1)]: Done  69 tasks      | elapsed:   28.6s\n",
      "[Parallel(n_jobs=-1)]: Done  82 tasks      | elapsed:   32.7s\n",
      "[Parallel(n_jobs=-1)]: Done  97 tasks      | elapsed:   39.6s\n",
      "[Parallel(n_jobs=-1)]: Done 112 tasks      | elapsed:   43.4s\n",
      "[Parallel(n_jobs=-1)]: Done 129 tasks      | elapsed:   52.8s\n",
      "[Parallel(n_jobs=-1)]: Done 146 tasks      | elapsed:  1.1min\n",
      "[Parallel(n_jobs=-1)]: Done 165 tasks      | elapsed:  1.2min\n",
      "[Parallel(n_jobs=-1)]: Done 184 tasks      | elapsed:  1.3min\n",
      "[Parallel(n_jobs=-1)]: Done 205 tasks      | elapsed:  1.4min\n",
      "[Parallel(n_jobs=-1)]: Done 226 tasks      | elapsed:  1.7min\n",
      "[Parallel(n_jobs=-1)]: Done 249 tasks      | elapsed:  1.8min\n",
      "[Parallel(n_jobs=-1)]: Done 272 tasks      | elapsed:  1.9min\n",
      "[Parallel(n_jobs=-1)]: Done 297 tasks      | elapsed:  2.2min\n",
      "[Parallel(n_jobs=-1)]: Done 322 tasks      | elapsed:  2.3min\n",
      "[Parallel(n_jobs=-1)]: Done 349 tasks      | elapsed:  2.5min\n",
      "[Parallel(n_jobs=-1)]: Done 376 tasks      | elapsed:  2.8min\n",
      "[Parallel(n_jobs=-1)]: Done 405 tasks      | elapsed:  3.0min\n",
      "[Parallel(n_jobs=-1)]: Done 434 tasks      | elapsed:  3.1min\n",
      "[Parallel(n_jobs=-1)]: Done 465 tasks      | elapsed:  3.5min\n",
      "[Parallel(n_jobs=-1)]: Done 496 tasks      | elapsed:  3.7min\n",
      "[Parallel(n_jobs=-1)]: Done 529 tasks      | elapsed:  3.9min\n",
      "[Parallel(n_jobs=-1)]: Done 562 tasks      | elapsed:  4.2min\n",
      "[Parallel(n_jobs=-1)]: Done 597 tasks      | elapsed:  4.4min\n",
      "[Parallel(n_jobs=-1)]: Done 632 tasks      | elapsed:  4.7min\n",
      "[Parallel(n_jobs=-1)]: Done 669 tasks      | elapsed:  4.9min\n",
      "[Parallel(n_jobs=-1)]: Done 720 out of 720 | elapsed:  5.4min finished\n"
     ]
    },
    {
     "name": "stdout",
     "output_type": "stream",
     "text": [
      "0:05:30.759667\n"
     ]
    }
   ],
   "source": [
    "init_time = datetime.now() \n",
    "\n",
    "grid_search_GBC.fit(X_train, y_train)\n",
    "\n",
    "final_time = datetime.now()\n",
    "\n",
    "print(final_time - init_time)"
   ]
  },
  {
   "cell_type": "code",
   "execution_count": 15,
   "metadata": {},
   "outputs": [
    {
     "data": {
      "text/plain": [
       "{'learning_rate': 0.2,\n",
       " 'loss': 'deviance',\n",
       " 'max_depth': 8,\n",
       " 'max_features': 'sqrt',\n",
       " 'min_samples_leaf': 0.1,\n",
       " 'min_samples_split': 0.1,\n",
       " 'n_estimators': 100,\n",
       " 'subsample': 1.0}"
      ]
     },
     "execution_count": 15,
     "metadata": {},
     "output_type": "execute_result"
    }
   ],
   "source": [
    "grid_search_GBC.best_params_"
   ]
  },
  {
   "cell_type": "code",
   "execution_count": 16,
   "metadata": {},
   "outputs": [],
   "source": [
    "GBC_best = grid_search_GBC.best_estimator_"
   ]
  },
  {
   "cell_type": "code",
   "execution_count": 17,
   "metadata": {},
   "outputs": [
    {
     "name": "stdout",
     "output_type": "stream",
     "text": [
      "0:00:06.965196\n"
     ]
    }
   ],
   "source": [
    "init_time = datetime.now() \n",
    "GBC_best.fit(X_train, y_train)\n",
    "print(datetime.now() - init_time)"
   ]
  },
  {
   "cell_type": "code",
   "execution_count": 18,
   "metadata": {},
   "outputs": [
    {
     "name": "stdout",
     "output_type": "stream",
     "text": [
      "Accuracy: 80.77%\n"
     ]
    }
   ],
   "source": [
    "y_pred = GBC_best.predict(X_test)\n",
    "GBC_accuracy_best = metrics.accuracy_score(y_test, y_pred)\n",
    "print(\"Accuracy: {:2.2%}\".format(GBC_accuracy_best))"
   ]
  },
  {
   "cell_type": "code",
   "execution_count": null,
   "metadata": {},
   "outputs": [],
   "source": [
    "plot_confusion_matrix(GBC, X_test, y_test)  \n",
    "plt.show() "
   ]
  },
  {
   "cell_type": "code",
   "execution_count": 55,
   "metadata": {},
   "outputs": [],
   "source": [
    "GBC = GradientBoostingClassifier()"
   ]
  },
  {
   "cell_type": "code",
   "execution_count": 81,
   "metadata": {},
   "outputs": [],
   "source": [
    "param_try = {'learning_rate': 0.2,\n",
    " 'loss': 'deviance',\n",
    " 'max_depth': 8,\n",
    " 'max_features': 'sqrt',\n",
    " 'min_samples_leaf': 0.1,\n",
    " 'min_samples_split': 0.1,\n",
    " 'n_estimators': 100,\n",
    " 'subsample': 1.0}"
   ]
  },
  {
   "cell_type": "code",
   "execution_count": 117,
   "metadata": {},
   "outputs": [],
   "source": [
    "GBC = GradientBoostingClassifier(learning_rate = 0.1,\n",
    "                                loss = 'deviance',\n",
    "                                max_depth = 10,\n",
    "                                max_features = 'sqrt',\n",
    "                                min_samples_leaf = 5,\n",
    "                                min_samples_split = 0.05,\n",
    "                                n_estimators = 300,\n",
    "                                subsample = 1.0)"
   ]
  },
  {
   "cell_type": "code",
   "execution_count": 118,
   "metadata": {},
   "outputs": [
    {
     "name": "stdout",
     "output_type": "stream",
     "text": [
      "0:00:47.238653\n",
      "Accuracy: 81.17%\n"
     ]
    }
   ],
   "source": [
    "init_time = datetime.now() \n",
    "GBC.fit(X_train, y_train)\n",
    "print(datetime.now() - init_time)\n",
    "y_pred = GBC.predict(X_test)\n",
    "GBC_accuracy = metrics.accuracy_score(y_test, y_pred)\n",
    "print(\"Accuracy: {:2.2%}\".format(GBC_accuracy))"
   ]
  },
  {
   "cell_type": "code",
   "execution_count": 121,
   "metadata": {},
   "outputs": [],
   "source": [
    "param_grid_GBC = {\n",
    "    \"loss\":[\"deviance\"],\n",
    "    \"learning_rate\": [0.1],\n",
    "    \"min_samples_split\": [0.05,0.1,1],\n",
    "    \"min_samples_leaf\": [2,3,5],\n",
    "    \"max_depth\":[3,10,15,30,50],\n",
    "    \"max_features\":[\"log2\",\"sqrt\"],\n",
    "    \"criterion\": [\"friedman_mse\"],\n",
    "    \"subsample\":[1.0],\n",
    "    \"n_estimators\":[100,200,300]\n",
    "    }"
   ]
  },
  {
   "cell_type": "code",
   "execution_count": 122,
   "metadata": {},
   "outputs": [],
   "source": [
    "grid_search_GBC = GridSearchCV(estimator = GBC, param_grid = param_grid_GBC, scoring = 'accuracy', verbose = 10, n_jobs = -1)"
   ]
  },
  {
   "cell_type": "code",
   "execution_count": 123,
   "metadata": {},
   "outputs": [
    {
     "name": "stdout",
     "output_type": "stream",
     "text": [
      "Fitting 5 folds for each of 270 candidates, totalling 1350 fits\n"
     ]
    },
    {
     "name": "stderr",
     "output_type": "stream",
     "text": [
      "[Parallel(n_jobs=-1)]: Using backend LokyBackend with 8 concurrent workers.\n",
      "[Parallel(n_jobs=-1)]: Done   2 tasks      | elapsed:    5.9s\n",
      "[Parallel(n_jobs=-1)]: Done   9 tasks      | elapsed:   14.2s\n",
      "[Parallel(n_jobs=-1)]: Done  16 tasks      | elapsed:   19.2s\n",
      "[Parallel(n_jobs=-1)]: Done  25 tasks      | elapsed:   29.2s\n",
      "[Parallel(n_jobs=-1)]: Done  34 tasks      | elapsed:   29.5s\n",
      "[Parallel(n_jobs=-1)]: Done  45 tasks      | elapsed:   37.2s\n",
      "[Parallel(n_jobs=-1)]: Done  56 tasks      | elapsed:   51.7s\n",
      "[Parallel(n_jobs=-1)]: Done  69 tasks      | elapsed:  1.1min\n",
      "[Parallel(n_jobs=-1)]: Done  82 tasks      | elapsed:  1.1min\n",
      "[Parallel(n_jobs=-1)]: Done  97 tasks      | elapsed:  1.4min\n",
      "[Parallel(n_jobs=-1)]: Done 112 tasks      | elapsed:  1.7min\n",
      "[Parallel(n_jobs=-1)]: Done 129 tasks      | elapsed:  1.7min\n",
      "[Parallel(n_jobs=-1)]: Done 146 tasks      | elapsed:  2.4min\n",
      "[Parallel(n_jobs=-1)]: Done 165 tasks      | elapsed:  2.8min\n",
      "[Parallel(n_jobs=-1)]: Done 184 tasks      | elapsed:  3.2min\n",
      "[Parallel(n_jobs=-1)]: Done 205 tasks      | elapsed:  4.0min\n",
      "[Parallel(n_jobs=-1)]: Done 226 tasks      | elapsed:  4.3min\n",
      "[Parallel(n_jobs=-1)]: Done 249 tasks      | elapsed:  5.3min\n",
      "[Parallel(n_jobs=-1)]: Done 272 tasks      | elapsed:  5.7min\n",
      "[Parallel(n_jobs=-1)]: Done 297 tasks      | elapsed:  6.8min\n",
      "[Parallel(n_jobs=-1)]: Done 322 tasks      | elapsed:  7.5min\n",
      "[Parallel(n_jobs=-1)]: Done 349 tasks      | elapsed:  8.4min\n",
      "[Parallel(n_jobs=-1)]: Done 376 tasks      | elapsed:  9.6min\n",
      "[Parallel(n_jobs=-1)]: Done 405 tasks      | elapsed: 10.6min\n",
      "[Parallel(n_jobs=-1)]: Done 434 tasks      | elapsed: 13.1min\n",
      "[Parallel(n_jobs=-1)]: Done 465 tasks      | elapsed: 16.0min\n",
      "[Parallel(n_jobs=-1)]: Done 496 tasks      | elapsed: 17.9min\n",
      "[Parallel(n_jobs=-1)]: Done 529 tasks      | elapsed: 20.5min\n",
      "[Parallel(n_jobs=-1)]: Done 562 tasks      | elapsed: 22.7min\n",
      "[Parallel(n_jobs=-1)]: Done 597 tasks      | elapsed: 24.1min\n",
      "[Parallel(n_jobs=-1)]: Done 632 tasks      | elapsed: 25.3min\n",
      "[Parallel(n_jobs=-1)]: Done 669 tasks      | elapsed: 26.8min\n",
      "[Parallel(n_jobs=-1)]: Done 706 tasks      | elapsed: 30.5min\n",
      "[Parallel(n_jobs=-1)]: Done 745 tasks      | elapsed: 34.9min\n",
      "[Parallel(n_jobs=-1)]: Done 784 tasks      | elapsed: 38.9min\n",
      "[Parallel(n_jobs=-1)]: Done 825 tasks      | elapsed: 41.8min\n",
      "[Parallel(n_jobs=-1)]: Done 866 tasks      | elapsed: 44.0min\n",
      "[Parallel(n_jobs=-1)]: Done 909 tasks      | elapsed: 46.4min\n",
      "[Parallel(n_jobs=-1)]: Done 952 tasks      | elapsed: 49.7min\n",
      "[Parallel(n_jobs=-1)]: Done 997 tasks      | elapsed: 54.6min\n",
      "[Parallel(n_jobs=-1)]: Done 1042 tasks      | elapsed: 59.6min\n",
      "[Parallel(n_jobs=-1)]: Done 1089 tasks      | elapsed: 63.5min\n",
      "[Parallel(n_jobs=-1)]: Done 1136 tasks      | elapsed: 66.4min\n",
      "[Parallel(n_jobs=-1)]: Done 1185 tasks      | elapsed: 69.1min\n",
      "[Parallel(n_jobs=-1)]: Done 1234 tasks      | elapsed: 73.7min\n",
      "[Parallel(n_jobs=-1)]: Done 1285 tasks      | elapsed: 78.7min\n",
      "[Parallel(n_jobs=-1)]: Done 1350 out of 1350 | elapsed: 84.9min finished\n"
     ]
    },
    {
     "name": "stdout",
     "output_type": "stream",
     "text": [
      "1:25:14.964645\n"
     ]
    }
   ],
   "source": [
    "init_time = datetime.now() \n",
    "\n",
    "grid_search_GBC.fit(X_train, y_train)\n",
    "\n",
    "final_time = datetime.now()\n",
    "\n",
    "print(final_time - init_time)"
   ]
  },
  {
   "cell_type": "code",
   "execution_count": 124,
   "metadata": {},
   "outputs": [
    {
     "data": {
      "text/plain": [
       "{'criterion': 'friedman_mse',\n",
       " 'learning_rate': 0.1,\n",
       " 'loss': 'deviance',\n",
       " 'max_depth': 15,\n",
       " 'max_features': 'sqrt',\n",
       " 'min_samples_leaf': 5,\n",
       " 'min_samples_split': 0.05,\n",
       " 'n_estimators': 100,\n",
       " 'subsample': 1.0}"
      ]
     },
     "execution_count": 124,
     "metadata": {},
     "output_type": "execute_result"
    }
   ],
   "source": [
    "grid_search_GBC.best_params_"
   ]
  },
  {
   "cell_type": "code",
   "execution_count": 125,
   "metadata": {},
   "outputs": [],
   "source": [
    "GBC_best = grid_search_GBC.best_estimator_"
   ]
  },
  {
   "cell_type": "code",
   "execution_count": 128,
   "metadata": {},
   "outputs": [
    {
     "name": "stdout",
     "output_type": "stream",
     "text": [
      "0:00:18.312859\n"
     ]
    }
   ],
   "source": [
    "init_time = datetime.now() \n",
    "GBC_best.fit(X_train, y_train)\n",
    "print(datetime.now() - init_time)"
   ]
  },
  {
   "cell_type": "code",
   "execution_count": 129,
   "metadata": {},
   "outputs": [
    {
     "name": "stdout",
     "output_type": "stream",
     "text": [
      "Accuracy: 81.50%\n"
     ]
    }
   ],
   "source": [
    "y_pred = GBC_best.predict(X_test)\n",
    "GBC_accuracy_best = metrics.accuracy_score(y_test, y_pred)\n",
    "print(\"Accuracy: {:2.2%}\".format(GBC_accuracy_best))"
   ]
  }
 ],
 "metadata": {
  "kernelspec": {
   "display_name": "Python 3",
   "language": "python",
   "name": "python3"
  },
  "language_info": {
   "codemirror_mode": {
    "name": "ipython",
    "version": 3
   },
   "file_extension": ".py",
   "mimetype": "text/x-python",
   "name": "python",
   "nbconvert_exporter": "python",
   "pygments_lexer": "ipython3",
   "version": "3.8.3"
  }
 },
 "nbformat": 4,
 "nbformat_minor": 4
}
